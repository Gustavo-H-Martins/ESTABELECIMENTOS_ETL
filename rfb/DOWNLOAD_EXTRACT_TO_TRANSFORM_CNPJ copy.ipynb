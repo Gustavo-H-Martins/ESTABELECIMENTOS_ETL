{
 "cells": [
  {
   "cell_type": "code",
   "execution_count": 2,
   "metadata": {},
   "outputs": [],
   "source": [
    "# Libs\n",
    "import os\n",
    "import pandas as pd\n",
    "from download_transformacao_CNPJ import EXTRATOR_CNPJ\n",
    "from pyspark.sql.functions import concat_ws, lpad, coalesce, when, lit\n",
    "from time import localtime, strftime\n",
    "current_dir = os.getcwd()\n",
    "dir_dados = os.path.join(current_dir, r\"dados\")"
   ]
  },
  {
   "cell_type": "code",
   "execution_count": null,
   "metadata": {},
   "outputs": [],
   "source": [
    "# Se passar baixar_e_extrair como false, precisa do nome do arquivo.\n",
    "print(f'Começando a buscar os dados: {strftime(\"%d/%m/%Y %H:%M:%S\", localtime())}')\n",
    "ESTABELECIMENTOS, spark = EXTRATOR_CNPJ(baixar_e_extrair=False, nome_arquivo=\"Estabelecimentos\").run()\n",
    "print(f'Termino da coleta dos ESTABELECIMENTOS: {strftime(\"%d/%m/%Y %H:%M:%S\", localtime())}')\n",
    "EMPRESAS, spark = EXTRATOR_CNPJ(baixar_e_extrair=False, nome_arquivo=\"Empresas\").run()\n",
    "print(f'Termino da coleta dos EMPRESAS: {strftime(\"%d/%m/%Y %H:%M:%S\", localtime())}')\n",
    "MUNICIPIOS, spark = EXTRATOR_CNPJ(baixar_e_extrair=False, nome_arquivo=\"Municipios\").run()\n",
    "print(f'Termino da coleta dos MUNICIPIOS: {strftime(\"%d/%m/%Y %H:%M:%S\", localtime())}')\n",
    "SOCIOS, spark = EXTRATOR_CNPJ(baixar_e_extrair=False, nome_arquivo=\"Socios\").run()\n",
    "print(f'Termino da coleta dos SOCIOS: {strftime(\"%d/%m/%Y %H:%M:%S\", localtime())}')\n",
    "SIMPLES, spark = EXTRATOR_CNPJ(baixar_e_extrair=False, nome_arquivo=\"Simples\").run()\n",
    "print(f'Final da coleta dos dados: {strftime(\"%d/%m/%Y %H:%M:%S\", localtime())}')"
   ]
  },
  {
   "cell_type": "code",
   "execution_count": null,
   "metadata": {},
   "outputs": [],
   "source": [
    "CNAES = {\n",
    "        5620104:'Fornecimento de alimentos preparados preponderantemente para consumo domiciliar',\n",
    "        5611201:'Restaurantes e similares',\n",
    "        5611203:'Lanchonetes casas de chá de sucos e similares',\n",
    "        5611204:'Bares e outros estabelecimentos especializados em servir bebidas sem entretenimento',\n",
    "        5611205:'Bares e outros estabelecimentos especializados em servir bebidas com entretenimento',\n",
    "        4721102:'Padaria e confeitaria com predominância de revenda'\n",
    "        }"
   ]
  },
  {
   "cell_type": "code",
   "execution_count": null,
   "metadata": {},
   "outputs": [],
   "source": [
    "cnaes = pd.DataFrame(CNAES.items(),columns=[\"CNAE_PRINCIPAL\", \"CNAE_DESCRICAO\"], dtype=\"string\")\n",
    "cnaes"
   ]
  },
  {
   "cell_type": "code",
   "execution_count": null,
   "metadata": {},
   "outputs": [],
   "source": [
    "def filtragem_cnae_sql(cod_cnae: int):\n",
    "    # Cria uma view com o mesmo nome do DataFrame\n",
    "    ESTABELECIMENTOS.createOrReplaceTempView(\"ESTABELECIMENTOS\")\n",
    "    EMPRESAS.createOrReplaceTempView(\"EMPRESAS\")\n",
    "    MUNICIPIOS.createOrReplaceTempView(\"MUNICIPIOS\")\n",
    "    SIMPLES.createOrReplaceTempView(\"SIMPLES\")\n",
    "    SOCIOS.createOrReplaceTempView(\"SOCIOS\")\n",
    "    # cria um dataframe com base na query\n",
    "    dataframe = spark.sql(\n",
    "        f\"\"\"\n",
    "        SELECT CONCAT(LPAD(EST.CNPJ_BASE, 8, '0'), LPAD(EST.CNPJ_ORDEM, 4, '0'), LPAD(EST.CNPJ_DV, 2, '0')) AS CNPJ,\n",
    "                EMP.RAZAO_SOCIAL,\n",
    "                EST.NOME_FANTASIA,\n",
    "                EST.SITUACAO_CADASTRAL,\n",
    "                EST.DATA_SITUACAO_CADASTRAL,\n",
    "                EST.DATA_INICIO_ATIVIDADE,\n",
    "                SOC.NOME_SOCIO,\n",
    "                SIM.OPCAO_MEI,\n",
    "                SIM.DATA_OPCAO_MEI,\n",
    "                SIM.DATA_EXCLUSAO_MEI,\n",
    "                EST.CNAE_PRINCIPAL,\n",
    "                CONCAT(\n",
    "                    COALESCE(EST.TIPO_LOGRADOURO, ''),\n",
    "                    ' ',\n",
    "                    COALESCE(EST.LOGRADOURO, ''),\n",
    "                    ' ',\n",
    "                    COALESCE(EST.NUMERO, ''),\n",
    "                    ' ',\n",
    "                    COALESCE(EST.COMPLEMENTO, '')\n",
    "                ) AS ENDERECO\n",
    "                EST.BAIRRO,\n",
    "                MUN.NOME_MUNICIPIO AS CIDADE,\n",
    "                EST.UF,\n",
    "                EST.CEP,\n",
    "                CONCAT(\n",
    "                    COALESCE(EST.DDD_CONTATO, ''), \n",
    "                    ' ',\n",
    "                    COALESCE(EST.TELEFONE_CONTATO, '')\n",
    "                    ) AS TELEFONE,\n",
    "                EST.EMAIL\n",
    "        FROM ESTABELECIMENTOS AS EST, EMPRESAS AS EMP, MUNICIPIOS AS MUN, SIMPLES AS SIM, SOCIOS AS SOC\n",
    "        WHERE EST.CNPJ_BASE = EMP.CNPJ_BASE\n",
    "            AND EST.CNPJ_BASE = SIM.CNPJ_BASE\n",
    "            AND EST.CNPJ_BASE = SOC.CNPJ_BASE\n",
    "            AND EST.CODIGO_MUNICIPIO = MUN.CODIGO_MUNICIPIO\n",
    "            AND EST.CNAE_PRINCIPAL = {cod_cnae}\n",
    "            AND EST.SITUACAO_CADASTRAL IN (2, 3, 4)\n",
    "            AND SIM.OPCAO_MEI IS NOT \"N\"\n",
    "        \"\"\"\n",
    "    )\n",
    "    #display(dataframe.show(5))\n",
    "    return dataframe"
   ]
  },
  {
   "cell_type": "code",
   "execution_count": null,
   "metadata": {},
   "outputs": [],
   "source": [
    "def filtragem_cnae_df(cod_cnae:int):\n",
    "    # cria um dataframe com base nos filtros aplicados\n",
    "    from pyspark.sql.functions import concat_ws, lpad, coalesce, when\n",
    "    dataframe = (\n",
    "        ESTABELECIMENTOS\n",
    "        .join(EMPRESAS, \"CNPJ_BASE\", \"left\")\n",
    "        .join(MUNICIPIOS, \"CODIGO_MUNICIPIO\", \"left\")\n",
    "        .join(SIMPLES, \"CNPJ_BASE\", \"left\")\n",
    "        .join(SOCIOS, \"CNPJ_BASE\", \"left\")\n",
    "        .where(\n",
    "            (ESTABELECIMENTOS[\"CNAE_PRINCIPAL\"] == f\"{cod_cnae}\") &\n",
    "            (ESTABELECIMENTOS[\"SITUACAO_CADASTRAL\"].isin([2, 3, 4])) &\n",
    "            (SIMPLES[\"OPCAO_MEI\"] == \"S\")|\n",
    "            (ESTABELECIMENTOS[\"CNAE_SECUNDARIO\"].isin(cod_cnae)) &\n",
    "            (ESTABELECIMENTOS[\"SITUACAO_CADASTRAL\"].isin([2, 3, 4])) &\n",
    "            (SIMPLES[\"OPCAO_MEI\"] == \"S\")\n",
    "        )\n",
    "        .select(\n",
    "            concat_ws(\"\", \n",
    "                lpad(ESTABELECIMENTOS[\"CNPJ_BASE\"].cast(\"bigint\"), 8, \"0\"), \n",
    "                lpad(ESTABELECIMENTOS[\"CNPJ_ORDEM\"], 4, \"0\"), \n",
    "                lpad(ESTABELECIMENTOS[\"CNPJ_DV\"], 2, \"0\")\n",
    "            ).alias(\"CNPJ\"),\n",
    "            when(EMPRESAS.RAZAO_SOCIAL.isNull(), None).otherwise(EMPRESAS.RAZAO_SOCIAL).alias(\"RAZAO_SOCIAL\"),\n",
    "            when(ESTABELECIMENTOS.NOME_FANTASIA.isNull(), None).otherwise(ESTABELECIMENTOS.NOME_FANTASIA).alias(\"NOME_FANTASIA\"),\n",
    "            ESTABELECIMENTOS.SITUACAO_CADASTRAL,\n",
    "            ESTABELECIMENTOS.DATA_SITUACAO_CADASTRAL,\n",
    "            ESTABELECIMENTOS.DATA_INICIO_ATIVIDADE,\n",
    "            when(SOCIOS.NOME_SOCIO.isNull(), None).otherwise(SOCIOS.NOME_SOCIO).alias(\"NOME_SOCIO\"),\n",
    "            when(SIMPLES.OPCAO_MEI.isNull(), None).otherwise(SIMPLES.OPCAO_MEI).alias(\"OPCAO_MEI\"),\n",
    "            when(SIMPLES.DATA_EXCLUSAO_MEI.isNull(), None).otherwise(SIMPLES.DATA_EXCLUSAO_MEI).alias(\"DATA_EXCLUSAO_MEI\"),\n",
    "            when(SIMPLES.DATA_OPCAO_MEI.isNull(), None).otherwise(SIMPLES.DATA_OPCAO_MEI).alias(\"DATA_OPCAO_MEI\"),\n",
    "            ESTABELECIMENTOS.CNAE_PRINCIPAL,\n",
    "            ESTABELECIMENTOS.CNAE_SECUNDARIO,\n",
    "            concat_ws(\" \",\n",
    "                when(ESTABELECIMENTOS.TIPO_LOGRADOURO.isNull(), None).otherwise(ESTABELECIMENTOS.TIPO_LOGRADOURO),\n",
    "                when(ESTABELECIMENTOS.LOGRADOURO.isNull(), None).otherwise(ESTABELECIMENTOS.LOGRADOURO),\n",
    "                when(ESTABELECIMENTOS.NUMERO.isNull(), None).otherwise(ESTABELECIMENTOS.NUMERO),\n",
    "                when(ESTABELECIMENTOS.COMPLEMENTO.isNull(), None).otherwise(ESTABELECIMENTOS.COMPLEMENTO)\n",
    "            ).alias(\"ENDERECO\"),\n",
    "            ESTABELECIMENTOS.BAIRRO,\n",
    "            MUNICIPIOS.NOME_MUNICIPIO.alias(\"CIDADE\"),\n",
    "            ESTABELECIMENTOS.UF,\n",
    "            ESTABELECIMENTOS.CEP,\n",
    "            concat_ws(\"-\", \n",
    "                when(ESTABELECIMENTOS.DDD_CONTATO.isNull(), None).otherwise(ESTABELECIMENTOS.DDD_CONTATO),\n",
    "                when(ESTABELECIMENTOS.TELEFONE_CONTATO.isNull(), None).otherwise(ESTABELECIMENTOS.TELEFONE_CONTATO)\n",
    "            ).alias(\"TELEFONE\"),\n",
    "            ESTABELECIMENTOS.EMAIL\n",
    "        )\n",
    "    )\n",
    "\n",
    "    #display(dataframe.show(5))\n",
    "    return dataframe"
   ]
  },
  {
   "cell_type": "code",
   "execution_count": null,
   "metadata": {},
   "outputs": [],
   "source": [
    "def filtra_cnae_lista(lista_cnaes:list):\n",
    "    # cria um dataframe com base nos filtros aplicados\n",
    "    from pyspark.sql.functions import concat_ws, lpad, coalesce, when \n",
    "    dataframe = (\n",
    "        ESTABELECIMENTOS\n",
    "        .join(EMPRESAS, \"CNPJ_BASE\", \"left\")\n",
    "        .join(MUNICIPIOS, \"CODIGO_MUNICIPIO\", \"left\")\n",
    "        .join(SIMPLES, \"CNPJ_BASE\", \"left\")\n",
    "        .join(SOCIOS, \"CNPJ_BASE\", \"left\")\n",
    "        .where(\n",
    "            (ESTABELECIMENTOS[\"CNAE_PRINCIPAL\"].isin(lista_cnaes)) &\n",
    "            (ESTABELECIMENTOS[\"SITUACAO_CADASTRAL\"].isin([2, 3, 4])) &\n",
    "            (SIMPLES[\"OPCAO_MEI\"] == \"S\")|\n",
    "            (ESTABELECIMENTOS[\"CNAE_SECUNDARIO\"].isin(lista_cnaes)) &\n",
    "            (ESTABELECIMENTOS[\"SITUACAO_CADASTRAL\"].isin([2, 3, 4])) &\n",
    "            (SIMPLES[\"OPCAO_MEI\"] == \"S\")\n",
    "        )\n",
    "        .select(\n",
    "            concat_ws(\"\", \n",
    "                lpad(ESTABELECIMENTOS[\"CNPJ_BASE\"].cast(\"bigint\"), 8, \"0\"), \n",
    "                lpad(ESTABELECIMENTOS[\"CNPJ_ORDEM\"], 4, \"0\"), \n",
    "                lpad(ESTABELECIMENTOS[\"CNPJ_DV\"], 2, \"0\")\n",
    "            ).alias(\"CNPJ\"),\n",
    "            when(EMPRESAS.RAZAO_SOCIAL.isNull(), None).otherwise(EMPRESAS.RAZAO_SOCIAL).alias(\"RAZAO_SOCIAL\"),\n",
    "            when(ESTABELECIMENTOS.NOME_FANTASIA.isNull(), None).otherwise(ESTABELECIMENTOS.NOME_FANTASIA).alias(\"NOME_FANTASIA\"),\n",
    "            ESTABELECIMENTOS.SITUACAO_CADASTRAL,\n",
    "            ESTABELECIMENTOS.DATA_SITUACAO_CADASTRAL,\n",
    "            ESTABELECIMENTOS.DATA_INICIO_ATIVIDADE,\n",
    "            when(SOCIOS.NOME_SOCIO.isNull(), None).otherwise(SOCIOS.NOME_SOCIO).alias(\"NOME_SOCIO\"),\n",
    "            when(SIMPLES.OPCAO_MEI.isNull(), None).otherwise(SIMPLES.OPCAO_MEI).alias(\"OPCAO_MEI\"),\n",
    "            when(SIMPLES.DATA_EXCLUSAO_MEI.isNull(), None).otherwise(SIMPLES.DATA_EXCLUSAO_MEI).alias(\"DATA_EXCLUSAO_MEI\"),\n",
    "            when(SIMPLES.DATA_OPCAO_MEI.isNull(), None).otherwise(SIMPLES.DATA_OPCAO_MEI).alias(\"DATA_OPCAO_MEI\"),\n",
    "            ESTABELECIMENTOS.CNAE_PRINCIPAL,\n",
    "            ESTABELECIMENTOS.CNAE_SECUNDARIO,\n",
    "            concat_ws(\" \",\n",
    "                when(ESTABELECIMENTOS.TIPO_LOGRADOURO.isNull(), None).otherwise(ESTABELECIMENTOS.TIPO_LOGRADOURO),\n",
    "                when(ESTABELECIMENTOS.LOGRADOURO.isNull(), None).otherwise(ESTABELECIMENTOS.LOGRADOURO),\n",
    "                when(ESTABELECIMENTOS.NUMERO.isNull(), None).otherwise(ESTABELECIMENTOS.NUMERO),\n",
    "                when(ESTABELECIMENTOS.COMPLEMENTO.isNull(), None).otherwise(ESTABELECIMENTOS.COMPLEMENTO)\n",
    "            ).alias(\"ENDERECO\"),\n",
    "            ESTABELECIMENTOS.BAIRRO,\n",
    "            MUNICIPIOS.NOME_MUNICIPIO.alias(\"CIDADE\"),\n",
    "            ESTABELECIMENTOS.UF,\n",
    "            ESTABELECIMENTOS.CEP,\n",
    "            concat_ws(\"-\", \n",
    "                when(ESTABELECIMENTOS.DDD_CONTATO.isNull(), None).otherwise(ESTABELECIMENTOS.DDD_CONTATO),\n",
    "                when(ESTABELECIMENTOS.TELEFONE_CONTATO.isNull(), None).otherwise(ESTABELECIMENTOS.TELEFONE_CONTATO)\n",
    "            ).alias(\"TELEFONE\"),\n",
    "            ESTABELECIMENTOS.EMAIL\n",
    "        )\n",
    "    )\n",
    "\n",
    "    #display(dataframe.show(5))\n",
    "    return dataframe"
   ]
  },
  {
   "cell_type": "code",
   "execution_count": null,
   "metadata": {},
   "outputs": [],
   "source": [
    "def salvar_df_cnae(CNAES:dict[int,str] = CNAES, opcao:int = None):\n",
    "    from backup_limpeza import backup_limpeza_simples\n",
    "    \"\"\"\n",
    "    Args:\n",
    "        CNAES (dict[int,str], optional): informa um dicionário com os códigos e descrição cnae.\n",
    "    Return:\n",
    "        dados_pandas : salva o dataframe gerador pela função em um arquivo único csv e arquivos parquets\n",
    "    \"\"\"\n",
    "    arquivo_csv = os.path.join(dir_dados, r\"csv\\BASE_RFB_MEI.csv\")\n",
    "    if os.path.exists(arquivo_csv):\n",
    "        nome_backup = dir_dados + r\"/backup/\"\n",
    "        if not os.path.exists(nome_backup):\n",
    "            os.makedirs(nome_backup)\n",
    "        backup_limpeza_simples(pasta=arquivo_csv.replace(r\"BASE_RFB_MEI.csv\", \"\"), nome_zipado=nome_backup + f\"BASE_RFB_{strftime('%d-%m-%Y %H_%M_%S', localtime())}.zip\")\n",
    "    if opcao == 1:\n",
    "        dados = None\n",
    "        for cod_cnae, descricao_cnae in CNAES.items():\n",
    "            if dados is None:\n",
    "                print(f\"{cod_cnae}:{descricao_cnae}\")\n",
    "                dados = filtragem_cnae_df(cod_cnae)\n",
    "                dados = dados.withColumn(\n",
    "                                \"CNAE_DESCRICAO\", lit(descricao_cnae.upper())\n",
    "                            )\n",
    "            else:\n",
    "                print(f\"{cod_cnae}:{descricao_cnae}\")\n",
    "                dados_incrementados = filtragem_cnae_df(cod_cnae)\n",
    "                dados_incrementados = dados_incrementados.withColumn(\n",
    "                    \"CNAE_DESCRICAO\", lit(descricao_cnae.upper())\n",
    "                )\n",
    "                dados = dados.union(dados_incrementados)\n",
    "                dados = dados.sort(\"CNPJ\")\n",
    "        dados_pandas = dados.toPandas()\n",
    "        print(len(dados_pandas.index))\n",
    "        dados_pandas.to_csv(arquivo_csv, sep=\";\",mode=\"a\", encoding=\"utf-8\", index=False)\n",
    "    elif opcao == 2:\n",
    "        lista_cnaes = list(CNAES.keys())\n",
    "        dados = filtra_cnae_lista(lista_cnaes)\n",
    "        cnaes = pd.DataFrame(CNAES.items(),columns=[\"CNAE_PRINCIPAL\", \"CNAE_DESCRICAO\"], dtype=\"string\")\n",
    "        dados_pandas = dados.toPandas()\n",
    "        dados_pandas = pd.merge(dados_pandas, cnaes, on=\"CNAE_PRINCIPAL\")\n",
    "        \n",
    "        dados_pandas = dados_pandas[[\"CNPJ\",\"RAZAO_SOCIAL\",\"NOME_FANTASIA\",\n",
    "            \"SITUACAO_CADASTRAL\",\"DATA_SITUACAO_CADASTRAL\",\n",
    "            \"DATA_INICIO_ATIVIDADE\",\"NOME_SOCIO\",\"OPCAO_MEI\",\"DATA_EXCLUSAO_MEI\",\"DATA_OPCAO_MEI\",\"CNAE_PRINCIPAL\",\"ENDERECO\",\n",
    "            \"BAIRRO\",\"CIDADE\",\"UF\",\"CEP\",\"TELEFONE\",\"CNAE_DESCRICAO\", \"EMAIL\"]]\n",
    "        print(len(dados_pandas.index))\n",
    "        dados_pandas.to_csv(arquivo_csv, sep=\";\",mode=\"a\", encoding=\"utf-8\", index=False)\n",
    "    else:\n",
    "        pass"
   ]
  },
  {
   "cell_type": "code",
   "execution_count": null,
   "metadata": {},
   "outputs": [],
   "source": [
    "salvar_df_cnae(CNAES, opcao=2)"
   ]
  },
  {
   "cell_type": "code",
   "execution_count": 3,
   "metadata": {},
   "outputs": [
    {
     "data": {
      "text/plain": [
       "CNPJ                       793400\n",
       "RAZAO_SOCIAL               793400\n",
       "NOME_FANTASIA              677225\n",
       "SITUACAO_CADASTRAL         793400\n",
       "DATA_SITUACAO_CADASTRAL    793400\n",
       "DATA_INICIO_ATIVIDADE      793400\n",
       "NOME_SOCIO                      3\n",
       "OPCAO_MEI                  793400\n",
       "DATA_EXCLUSAO_MEI          793400\n",
       "DATA_OPCAO_MEI             793400\n",
       "CNAE_PRINCIPAL             793400\n",
       "ENDERECO                   793400\n",
       "BAIRRO                     793375\n",
       "CIDADE                     793398\n",
       "UF                         793400\n",
       "CEP                        793400\n",
       "TELEFONE                   791930\n",
       "CNAE_DESCRICAO             793400\n",
       "EMAIL                      666893\n",
       "dtype: int64"
      ]
     },
     "execution_count": 3,
     "metadata": {},
     "output_type": "execute_result"
    }
   ],
   "source": [
    "import pandas as pd\n",
    "MEIS = pd.read_csv(f\"{dir_dados}\"+ r\"\\csv\\BASE_RFB_MEI.csv\", sep=\";\")\n",
    "MEIS[\"DATA_EXCLUSAO_MEI\"].fillna(\"0\", inplace=True)\n",
    "\n",
    "MEIS[MEIS[\"DATA_EXCLUSAO_MEI\"] == 0].count()"
   ]
  },
  {
   "cell_type": "code",
   "execution_count": 4,
   "metadata": {},
   "outputs": [
    {
     "data": {
      "text/plain": [
       "EMAIL\n",
       "EMPRESA.HUP@GMAIL.COM                     51\n",
       "ERMANIMEI2021@GMAIL.COM                   50\n",
       "JCCONTABILIDADEDORENSE@HOTMAIL.COM        32\n",
       "SALADOEMPREENDEDORVALENCIANO@GMAIL.COM    32\n",
       "PACHECO.CONTABIL2015@GMAIL.COM            29\n",
       "                                          ..\n",
       "MARCOS_FRONTECK@HOTMAIL.COM                1\n",
       "LUFKIN@GMAIL.COM                           1\n",
       "PRISCILA-GCOSTA@HOTMAIL.COM                1\n",
       "RENATOMOURA160@GMAIL.COM                   1\n",
       "DAIANASVIDALL0@GMAIL.COM                   1\n",
       "Name: count, Length: 639337, dtype: int64"
      ]
     },
     "execution_count": 4,
     "metadata": {},
     "output_type": "execute_result"
    }
   ],
   "source": [
    "MEIS[\"EMAIL\"].fillna(\"0\", inplace=True)\n",
    "\n",
    "MEIS_COM_EMAIL = MEIS[~MEIS[\"EMAIL\"].isin([0, \"0\"])]\n",
    "MEIS_COM_EMAIL[\"EMAIL\"].value_counts()"
   ]
  },
  {
   "cell_type": "code",
   "execution_count": 5,
   "metadata": {},
   "outputs": [
    {
     "data": {
      "text/plain": [
       "EMAIL\n",
       "EMPRESA.HUP@GMAIL.COM                     51\n",
       "ERMANIMEI2021@GMAIL.COM                   50\n",
       "SALADOEMPREENDEDORVALENCIANO@GMAIL.COM    32\n",
       "OFICIALCEBRASCON@GMAIL.COM                27\n",
       "SERGIO@ALTINFORMATICA.COM.BR              26\n",
       "                                          ..\n",
       "DILMAMMP1969@GMAIL.COM                     1\n",
       "EDINHOTHER@GMAIL.COM                       1\n",
       "ELIENETRINDADEROCHA@GMAIL.COM              1\n",
       "REIDOSUCOITAUNA@GMAIL.COM                  1\n",
       "DAIANASVIDALL0@GMAIL.COM                   1\n",
       "Name: count, Length: 627831, dtype: int64"
      ]
     },
     "execution_count": 5,
     "metadata": {},
     "output_type": "execute_result"
    }
   ],
   "source": [
    "MEIS_COM_EMAIL_SEM_CONTABIL = MEIS_COM_EMAIL[~MEIS_COM_EMAIL[\"EMAIL\"].str.contains(\"contabi\")]\n",
    "MEIS_COM_EMAIL_SEM_CONTABIL = MEIS_COM_EMAIL[~MEIS_COM_EMAIL[\"EMAIL\"].str.contains(\"CONTABI\")]\n",
    "MEIS_COM_EMAIL_SEM_CONTABIL[\"EMAIL\"].value_counts()"
   ]
  },
  {
   "cell_type": "code",
   "execution_count": 6,
   "metadata": {},
   "outputs": [],
   "source": [
    "MEIS_COM_EMAIL_SEM_CONTABIL.to_csv(\"BASE_MEI_RFB_SEM_EMAIL_CONTABIL.csv\", sep=\";\", index=False)"
   ]
  }
 ],
 "metadata": {
  "kernelspec": {
   "display_name": "Python 3 (ipykernel)",
   "language": "python",
   "name": "python3"
  },
  "language_info": {
   "codemirror_mode": {
    "name": "ipython",
    "version": 3
   },
   "file_extension": ".py",
   "mimetype": "text/x-python",
   "name": "python",
   "nbconvert_exporter": "python",
   "pygments_lexer": "ipython3",
   "version": "3.9.10"
  },
  "widgets": {
   "application/vnd.jupyter.widget-state+json": {
    "state": {},
    "version_major": 2,
    "version_minor": 0
   }
  }
 },
 "nbformat": 4,
 "nbformat_minor": 4
}
