{
 "cells": [
  {
   "cell_type": "code",
   "execution_count": null,
   "metadata": {
    "tags": []
   },
   "outputs": [],
   "source": [
    "from pyspark.sql import SparkSession\n",
    "from pyspark.sql.types import StructType, StructField, IntegerType, StringType, IntegerType, ArrayType, DataType\n",
    "import pandas as pd\n",
    "import os \n",
    "import logging\n",
    "import time\n",
    "spark = SparkSession.builder.master(\"local[4]\") \\\n",
    "    .appName(\"ETL_CNPJ\") \\\n",
    "    .getOrCreate()"
   ]
  },
  {
   "cell_type": "code",
   "execution_count": null,
   "metadata": {
    "tags": []
   },
   "outputs": [],
   "source": [
    "current_dir = os.getcwd()\n",
    "file_log = current_dir + r\"/logs/src.log\"\n",
    "\n",
    "# gerando log\n",
    "logging.basicConfig(level=logging.DEBUG, filename=file_log, format=\"%(asctime)s - %(levelname)s - %(message)s\")\n",
    "\n",
    "# Warnings: Possui uma série de funções e comandos para tratamento de mensagens de avisos e alertas do Python\n",
    "import warnings\n",
    "warnings.filterwarnings(\"ignore\")"
   ]
  },
  {
   "cell_type": "code",
   "execution_count": null,
   "metadata": {
    "tags": []
   },
   "outputs": [],
   "source": [
    "# DEFINE O NOVO NOME DE CADA COLUNA\n",
    "NOVO_NOME_COLUNAS = {\n",
    "    \"_c0\" : \"CNPJ_BASE\", \n",
    "    \"_c1\" : \"CNPJ_ORDEM\", \n",
    "    \"_c2\" : \"CNPJ_DV\", \n",
    "    \"_c3\" : \"MATRIZ_FILIAL\", \n",
    "    \"_c4\" : \"NOME_FANTASIA\", \n",
    "    \"_c5\" : \"SITUACAO_CADASTRAL\", \n",
    "    \"_c6\" : \"DATA_SITUACAO_CADASTRAL\", \n",
    "    \"_c7\" : \"MOTIVO_SITUACAO_CADASTRAL\", \n",
    "    \"_c8\" : \"CIDADE_EXTERIOR\", \n",
    "    \"_c9\" : \"PAIS\", \n",
    "    \"_c10\" : \"DATA_INICIO_ATIVIDADE\", \n",
    "    \"_c11\" : \"CNAE_PRINCIPAL\", \n",
    "    \"_c12\" : \"CNAE_SECUNDARIO\", \n",
    "    \"_c13\" : \"TIPO_LOGRADOURO\", \n",
    "    \"_c14\" : \"LOGRADOURO\", \n",
    "    \"_c15\" : \"NUMERO\", \n",
    "    \"_c16\" : \"COMPLEMENTO\", \n",
    "    \"_c17\" : \"BAIRRO\", \n",
    "    \"_c18\" : \"CEP\", \n",
    "    \"_c19\" : \"UF\", \n",
    "    \"_c20\" : \"MUNICIPIO\", \n",
    "    \"_c21\" : \"DDD1\", \n",
    "    \"_c22\" : \"TELEFONE1\", \n",
    "    \"_c23\" : \"DDD2\", \n",
    "    \"_c24\" : \"TELEFONE2\", \n",
    "    \"_c25\" : \"DDD_FAX\", \n",
    "    \"_c26\" : \"FAX\", \n",
    "    \"_c27\" : \"EMAIL\", \n",
    "    \"_c28\" : \"SITUACAO_ESPECIAL\", \n",
    "    \"_c29\" : \"DATA_SITUACAO_ESPECIAL\"\n",
    "    }\n",
    "# DEFINE O ESQUEMA\n",
    "ESQUEMA = StructType([\n",
    "    StructField(\"CNPJ_BASE\", IntegerType(), True),\n",
    "    StructField(\"CNPJ_ORDEM\", IntegerType(), True),\n",
    "    StructField(\"CNPJ_DV\", IntegerType(), True),\n",
    "    StructField(\"MATRIZ_FILIAL\", IntegerType(), True),\n",
    "    StructField(\"NOME_FANTASIA\", StringType(), True),    \n",
    "    StructField(\"SITUACAO_CADASTRAL\", IntegerType(), True),\n",
    "    StructField(\"DATA_SITUACAO_CADASTRAL\", IntegerType(), True),    \n",
    "    StructField(\"MOTIVO_SITUACAO_CADASTRAL\", IntegerType(), True),\n",
    "    StructField(\"CIDADE_EXTERIOR\", IntegerType(), True),\n",
    "    StructField(\"PAIS\", StringType(), True),\n",
    "    StructField(\"DATA_INICIO_ATIVIDADE\", IntegerType(), True),\n",
    "    StructField(\"CNAE_PRINCIPAL\", IntegerType(), True),\n",
    "    StructField(\"CNAE_SECUNDARIO\", ArrayType(IntegerType())),\n",
    "    StructField(\"TIPO_LOGRADOURO\", StringType(), True),\n",
    "    StructField(\"LOGRADOURO\", StringType(), True),\n",
    "    StructField(\"NUMERO\", IntegerType(), True),\n",
    "    StructField(\"COMPLEMENTO\", StringType(), True),\n",
    "    StructField(\"BAIRRO\", StringType(), True),\n",
    "    StructField(\"CEP\", StringType(), True),\n",
    "    StructField(\"UF\", StringType(), True),\n",
    "    StructField(\"DDD1\", IntegerType(), True),\n",
    "    StructField(\"TELEFONE1\", IntegerType(), True),\n",
    "    StructField(\"DDD2\", IntegerType(), True),\n",
    "    StructField(\"TELEFONE2\", IntegerType(), True),\n",
    "    StructField(\"DDD_FAX\", IntegerType(), True),\n",
    "    StructField(\"FAX\", IntegerType(), True),\n",
    "    StructField(\"EMAIL\", StringType(), True),\n",
    "    StructField(\"SITUACAO_ESPECIAL\", IntegerType(), True),\n",
    "    StructField(\"DATA_SITUACAO_ESPECIAL\", IntegerType(), True)\n",
    "])\n",
    "# DEFINE QUAIS COLUNAS QUEREMOS MANTER E QUAIS QUEREMOS DESCARTAR\n",
    "COLUNAS_A_MANTER = ['CNPJ_BASE', 'CNPJ_ORDEM' , 'CNPJ_DV' , 'MATRIZ_FILIAL'  , 'NOME_FANTASIA' , 'SITUACAO_CADASTRAL' ,\n",
    "              'DATA_SITUACAO_CADASTRAL'  , 'MOTIVO_SITUACAO_CADASTRAL'  , 'DATA_INICIO_ATIVIDADE'  ,\n",
    "              'CNAE_PRINCIPAL'  , 'CNAE_SECUNDARIO' , 'TIPO_LOGRADOURO'  , 'LOGRADOURO'  , 'NUMERO'  , 'COMPLEMENTO' ,\n",
    "              'BAIRRO'  , 'CEP'  , 'UF'  , 'MUNICIPIO'  , 'DDD1'  , 'TELEFONE1'  , 'DDD2'  , 'TELEFONE2'  ,\n",
    "              'DDD_FAX'  , 'FAX'  , 'EMAIL']\n",
    "# DEFINE QUAIS CNAES VAMOS TRABALHAR\n",
    "CNAES = {\n",
    "        5612100:'Serviços ambulantes de alimentação',\n",
    "        5611201:'Restaurantes e similares',\n",
    "        5611203:'Lanchonetes casas de chá de sucos e similares',\n",
    "        5611204:'Bares e outros estabelecimentos especializados em servir bebidas sem entretenimento',\n",
    "        5611205:'Bares e outros estabelecimentos especializados em servir bebidas com entretenimento',\n",
    "        4721102: 'Padaria e confeitaria com predominância de revenda'\n",
    "        }\n",
    "# DEFINE O TAMANHO DO CHUNK\n",
    "chunk_size = 1000000"
   ]
  },
  {
   "cell_type": "code",
   "execution_count": null,
   "metadata": {
    "tags": []
   },
   "outputs": [],
   "source": [
    "# LENDO O DATAFRAME COM O ESQUEMA DEFINIDO\n",
    "INPUT_BASE = current_dir.replace(r\"GitHub\\ETL_CNPJ\\utilitarios\", r\"\\CNPJ_PROGRAMATICA\\ESTABELECIMENTOSCSV/\")\n",
    "ESTABELECIMENTOS = list(filter(lambda x: \".csv\" in x, os.listdir(INPUT_BASE)))\n",
    "dados = spark.read.options(delimiter = \";\", header=False, inferSchema=True).csv(f\"{INPUT_BASE}{ESTABELECIMENTOS[1]}\")\n",
    "# dados.show(1, vertical=True)\n",
    "\n",
    "# USA O MÉTODO WITHCOLUMNRENAMED() PARA RENOMEAR AS COLUNAS\n",
    "for NOME_ANTIGO, NOVO_NOME in NOVO_NOME_COLUNAS.items():\n",
    "    dados = dados.withColumnRenamed(NOME_ANTIGO, NOVO_NOME)\n",
    "\n",
    "# USA OS MÉTODOS SELECT() E DROP() PARA DESCARTAR AS COLUNAS QUE NÃO PRECISAMOS\n",
    "dados = dados.select(COLUNAS_A_MANTER)\n",
    "\n",
    "# MOSTRA O RESULTADO FINAL COM AS COLUNAS RENOMEADAS E DESCARTADAS\n",
    "dados.show(1, vertical=True)\n"
   ]
  },
  {
   "cell_type": "code",
   "execution_count": null,
   "metadata": {
    "tags": []
   },
   "outputs": [],
   "source": [
    "# DEFINE O COD CNAE A SER BUSCADO\n",
    "codigo_cnae = 4721102\n",
    "def filtra_cnae(data, codigo_cnae):\n",
    "    \"\"\"Resumo filtra_cnae\n",
    "\n",
    "    Args:\n",
    "        data ([type]: dataframe): passa o dataframe com os dados a serem filtrados desde que tenha a coluna solicitada\n",
    "        codigo_cnae ([type] int): código cnae usado para filtrar os registros da categoria dos estabelecimentos buscados\n",
    "\n",
    "    Returns:\n",
    "        df_cnae ([type] dataframe): Retorna um dataframe com os dados filtrados;\n",
    "    \"\"\"\n",
    "    # QUERY TIPO SQL PARA FILTRAR COM BASE NO PARÂMETRO PASSADO\n",
    "    df_cnae =  data.where((f\"CNAE_PRINCIPAL == '{codigo_cnae}'\"))\n",
    "    # RETORNA A QUANTIDADE DE DADOS DESTA CONSULTA\n",
    "    print(f\"Nesta consulta temos :{df_cnae.count()} observações do cnae informado!\")\n",
    "    # SUBSTITUI OS VALORES NULOS POR STRINGS VAZIAS (SÓ FUNCIONA ATÉ AQUI PARA StructField StringTypes)\n",
    "    df_cnae = df_cnae.na.fill('')\n",
    "    # MOSTRA A NAMORADINHA DO DATA MAN\n",
    "    return df_cnae.show()\n",
    "# filtra_cnae(data=dados,codigo_cnae=codigo_cnae)"
   ]
  },
  {
   "cell_type": "markdown",
   "metadata": {},
   "source": [
    "``` PYTHON\n",
    "for chunk in dados.limit(chunk_size).rdd.toLocalIterator():\n",
    "    print(chunk)\n",
    "```"
   ]
  },
  {
   "cell_type": "code",
   "execution_count": null,
   "metadata": {
    "tags": []
   },
   "outputs": [],
   "source": [
    "# APLICANDO A FUNÇÃO \"foreachPartition\" \n",
    "# ESTA FUNÇÃO PERMITE EXECUTAR UMA FUNÇÃO EM CADA PARTIÇÃO DO DATAFRAME DE FORMA PARALELA\n",
    "def process_partition(iterator):\n",
    "    # IMPORTANDO FUNÇÕES PARA CONCATENAR OS DADOS DE COLUNAS\n",
    "    from pyspark.sql.functions import concat, col \n",
    "    # CRIA O LOOP QUE VAI PARTICIONAR O DATAFRAME ORIGINAL EM PARTES\n",
    "    for dados in iterator:\n",
    "        logging.info(f'Leitura inicial: {dados.count()}')\n",
    "        # SUBSTITUI OS VALORES NULOS POR STRINGS VAZIAS (SÓ FUNCIONA ATÉ AQUI PARA StructField StringTypes)\n",
    "        dados = dados.na.fill('')\n",
    "        # QUERY TIPO SQL PARA FILTRAR COM BASE NA SITUAÇÃO CADASTRAL\n",
    "        dados = dados.where((dados[\"SITUACAO_CADASTRAL\"] == 2) | (dados[\"SITUACAO_CADASTRAL\"] == 3) | (dados[\"SITUACAO_CADASTRAL\"] == 4))\n",
    "        logging.info(f'Somente os ativos: {dados.count()}')\n",
    "        \n",
    "        # DEFINE O COD CNAE A SER BUSCADO COM BASE NO DICIONÁRIO CNAES CRIADO ANTERIORMENTE\n",
    "        for codigo_cnae, descricao_cnae in CNAES.items():\n",
    "            # QUERY TIPO SQL PARA FILTRAR COM BASE NO PARÂMETRO PASSADO\n",
    "            df_cnae =  dados.where((f\"CNAE_PRINCIPAL == '{codigo_cnae}'\"))\n",
    "            # PROCESSO DE MODELAGEM DOS DADOS \n",
    "            df_cnae = df_cnae \\\n",
    "                .withColumn(\"TELEFONE1\", concat(col(\"DDD1\").cast(\"string\"), col(\"TELEFONE1\").cast(\"string\"))) \\\n",
    "                .withColumn(\"TELEFONE2\", concat(col(\"DDD2\").cast(\"string\"), col(\"TELEFONE2\").cast(\"string\"))) \\\n",
    "                .withColumn(\"FAX\", concat(col(\"DDD_FAX\").cast(\"string\"), col(\"FAX\").cast(\"string\"))) \\\n",
    "                .drop('DDD1','DDD2','DDD_FAX', inplace=True)\n",
    "            logging.info(f\"Colunas Geradas: {df_cnae.columns}\")\n",
    "            logging.info(f\"Itens capiturados: {df_cnae.count()} Categoria dos dados: {descricao_cnae}\")\n",
    "\n",
    "            if codigo_cnae == 5612100:\n",
    "                contagem_5612100 = contagem_5612100 + df_cnae.count()\n",
    "                \n",
    "            elif codigo_cnae == 5611201:\n",
    "                contagem_5611201 = contagem_5611201 + df_cnae.count()\n",
    "\n",
    "            elif codigo_cnae == 5611203:\n",
    "                contagem_5611203 = contagem_5611203 + df_cnae.count()\n",
    "                \n",
    "            elif codigo_cnae == 5611204:\n",
    "                contagem_5611204 = contagem_5611204 + df_cnae.count()\n",
    "                \n",
    "            elif codigo_cnae == 5611205:\n",
    "                contagem_5611205 = contagem_5611205 + df_cnae.count()\n",
    "                \n",
    "            else:\n",
    "                pass\n",
    "            # EXPORTA OS DADOS COM FORMATO PARQUET (POR QUESTÕES DE PROCESSAMENTO)\n",
    "            OUTPUT_BASE = current_dir.replace(\"utilitarios\", \"TESTE_BASE\")\n",
    "            df_cnae.write.format(\"parque\").mode(\"append\").option(\"compression\", \"snappy\").save(f'{OUTPUT_BASE}/{descricao_cnae}.parquet')\n",
    "\n",
    "# APLICA A FUNÇÃO \"process_partition\" EM CADA PARTIÇÃO DO DATAFRAME\n",
    "dados.foreachPartition(process_partition)\n"
   ]
  },
  {
   "cell_type": "code",
   "execution_count": null,
   "metadata": {},
   "outputs": [],
   "source": []
  }
 ],
 "metadata": {
  "kernelspec": {
   "display_name": "Python 3 (ipykernel)",
   "language": "python",
   "name": "python3"
  },
  "language_info": {
   "codemirror_mode": {
    "name": "ipython",
    "version": 3
   },
   "file_extension": ".py",
   "mimetype": "text/x-python",
   "name": "python",
   "nbconvert_exporter": "python",
   "pygments_lexer": "ipython3",
   "version": "3.9.13"
  },
  "widgets": {
   "application/vnd.jupyter.widget-state+json": {
    "state": {},
    "version_major": 2,
    "version_minor": 0
   }
  }
 },
 "nbformat": 4,
 "nbformat_minor": 4
}
