{
 "cells": [
  {
   "cell_type": "code",
   "execution_count": null,
   "metadata": {},
   "outputs": [],
   "source": [
    "# libs\n",
    "import pandas as pd\n",
    "import numpy as np\n",
    "import datetime\n",
    "import warnings\n",
    "import os\n",
    "import sqlite3\n",
    "import logging\n",
    "warnings.filterwarnings(\"ignore\")\n",
    "pd.option_context(10,5)\n",
    "\n",
    "#define o caminho do diretório atual\n",
    "current_dir = os.getcwd()\n",
    "file_logs = current_dir.replace(r\"rfb\\dados\\csv\",r\"logs\\rfb.log\")\n",
    "# configurando o registro de logs\n",
    "logging.basicConfig(level=logging.DEBUG, filename=file_logs,encoding=\"utf-8\", format=\"%(asctime)s - %(levelname)s - %(message)s\")\n"
   ]
  },
  {
   "cell_type": "code",
   "execution_count": null,
   "metadata": {},
   "outputs": [],
   "source": [
    "# pega o arquivo gerado\n",
    "base_rfb = current_dir + r\"\\BASE_RFB.csv\"\n",
    "base_rfb"
   ]
  },
  {
   "cell_type": "code",
   "execution_count": null,
   "metadata": {},
   "outputs": [],
   "source": [
    "# qual cabeçalho nós usamos mesmo?\n",
    "cabecalho = [\"CNPJ\",\"RAZAO_SOCIAL\",\"NOME_FANTASIA\",\n",
    "             \"SITUACAO_CADASTRAL\",\"DATA_SITUACAO_CADASTRAL\",\n",
    "             \"DATA_INICIO_ATIVIDADE\",\"CNAE_PRINCIPAL\",\"ENDERECO\",\n",
    "             \"BAIRRO\",\"CIDADE\",\"UF\",\"CEP\",\"TELEFONE\",\"CNAE_DESCRICAO\", \"EMAIL\"]"
   ]
  },
  {
   "cell_type": "code",
   "execution_count": null,
   "metadata": {},
   "outputs": [],
   "source": [
    "# carregada os dados no dataframe pandas aqui, simples né?\n",
    "dados  = pd.read_csv(base_rfb, sep=\";\",usecols=cabecalho, dtype=\"string\")\n",
    "dados.head(2)"
   ]
  },
  {
   "cell_type": "code",
   "execution_count": null,
   "metadata": {},
   "outputs": [],
   "source": [
    "\n",
    "dados[[\"RAZAO_SOCIAL\", \"NOME_FANTASIA\", \"DATA_INICIO_ATIVIDADE\", \"CNAE_PRINCIPAL\", \"CNAE_DESCRICAO\", \"BAIRRO\", \"CIDADE\", \"UF\", \"CEP\"]].describe()"
   ]
  },
  {
   "cell_type": "code",
   "execution_count": null,
   "metadata": {},
   "outputs": [],
   "source": [
    "# a parte de transform de fato está toda aqui, bem simples:\n",
    "# com quaanto de dadps começou?\n",
    "logging.info(f\"Tinham: {dados.shape[0]} dados\")\n",
    "# Remove os dados duplicados, estranho que sempre aparecem\n",
    "dados.drop_duplicates(inplace=True, ignore_index=True)\n",
    "dados.drop_duplicates(subset=[\"CNPJ\"])\n",
    "# coloca tudo em uppercase\n",
    "dados[\"CNAE_DESCRICAO\"] = dados[\"CNAE_DESCRICAO\"].str.upper()\n",
    "dados[\"ENDERECO\"] = dados[\"ENDERECO\"].str.strip()\n",
    "\n",
    "# filtrando as colunas que vamos usar depois de toda a brincadeira\n",
    "dados = dados[[\"CNPJ\", \"RAZAO_SOCIAL\",\"NOME_FANTASIA\", \n",
    "               \"ENDERECO\", \"BAIRRO\", \"CIDADE\", \"UF\", \n",
    "               \"CEP\", \"TELEFONE\", \"EMAIL\", \"CNAE_PRINCIPAL\",\n",
    "               \"CNAE_DESCRICAO\",\"SITUACAO_CADASTRAL\",\n",
    "               \"DATA_SITUACAO_CADASTRAL\", \"DATA_INICIO_ATIVIDADE\"]]\n",
    "\n",
    "# conta quando de dados sobrou\n",
    "logging.info(f\"ficaram: {dados.shape[0]} dados\")\n",
    "\n",
    "dados.head(5)"
   ]
  },
  {
   "cell_type": "code",
   "execution_count": null,
   "metadata": {},
   "outputs": [],
   "source": [
    "# Salva tudo novamente desta vez com um csv e no banco de dados, a galera gosta de \"variedades\"\n",
    "dados.to_csv(base_rfb,sep=\";\", index=False, encoding=\"utf-8\")\n",
    "#Criar uma conexão com o banco de dados sqlite\n",
    "db_file = current_dir.replace(r\"rfb\\dados\\csv\", r\"app\\files\\database.db\")\n",
    "conn = sqlite3.connect(database=db_file)\n",
    "\n",
    "#Converter o dataframe em uma tabela no banco de dados\n",
    "\"\"\"\n",
    "O parâmetro if_exists=`append` verifica se a tabela já existe e incrementa os dados\n",
    "O parâmetro index=False evita que o índice do dataframe seja inserido na tabela\n",
    "O parâmetro dtype define o tipo de cada coluna na tabela\n",
    "\"\"\"\n",
    "dados.to_sql(\"tb_rfb\", conn, \n",
    "             if_exists=\"replace\", index=False, \n",
    "             dtype={\"CNPJ\": \"TEXT PRIMARY KEY\", \n",
    "                    \"RAZAO_SOCIAL\": \"TEXT\", \"NOME_FANTASIA\": \"TEXT\", \n",
    "                    \"ENDERECO\": \"TEXT\", \"BAIRRO\": \"TEXT\", \"CIDADE\": \"TEXT\", \n",
    "                    \"UF\": \"TEXT\", \"CEP\": \"TEXT\", \n",
    "                    \"TELEFONE\": \"TEXT\", \"EMAIL\": \"TEXT\", \n",
    "                    \"CNAE_PRINCIPAL\": \"TEXT\", \"CNAE_DESCRICAO\": \"TEXT\",\n",
    "                    \"SITUACAO_CADASTRAL\" : \"TEXT\", \"DATA_SITUACAO_CADASTRAL\" : \"TEXT\",\n",
    "                    \"DATA_INICIO_ATIVIDADE\" : \"TEXT\"})\n",
    "# Finaliza a transação\n",
    "conn.commit()\n",
    "# Executa o comando VACUUM para compactar o banco de dados\n",
    "conn.execute(\"VACUUM\")\n",
    "\n",
    "# Fechar a conexão com o banco de dados\n",
    "conn.close()"
   ]
  }
 ],
 "metadata": {
  "kernelspec": {
   "display_name": ".venv",
   "language": "python",
   "name": "python3"
  },
  "language_info": {
   "codemirror_mode": {
    "name": "ipython",
    "version": 3
   },
   "file_extension": ".py",
   "mimetype": "text/x-python",
   "name": "python",
   "nbconvert_exporter": "python",
   "pygments_lexer": "ipython3",
   "version": "3.9.10"
  },
  "orig_nbformat": 4
 },
 "nbformat": 4,
 "nbformat_minor": 2
}
