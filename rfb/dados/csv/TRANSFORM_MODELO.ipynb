{
 "cells": [
  {
   "cell_type": "code",
   "execution_count": 1,
   "metadata": {},
   "outputs": [],
   "source": [
    "# libs\n",
    "import pandas as pd\n",
    "import numpy as np\n",
    "import datetime\n",
    "import warnings\n",
    "import os\n",
    "import sqlite3\n",
    "import logging\n",
    "warnings.filterwarnings(\"ignore\")\n",
    "pd.option_context(10,5)\n",
    "\n",
    "#define o caminho do diretório atual\n",
    "current_dir = os.getcwd()\n",
    "file_logs = current_dir.replace(r\"rfb\\dados\\csv\",r\"logs\\rfb.log\")\n",
    "# configurando o registro de logs\n",
    "logging.basicConfig(level=logging.DEBUG, filename=file_logs,encoding=\"utf-8\", format=\"%(asctime)s - %(levelname)s - %(message)s\")\n"
   ]
  },
  {
   "cell_type": "code",
   "execution_count": 2,
   "metadata": {},
   "outputs": [
    {
     "data": {
      "text/plain": [
       "'c:\\\\Users\\\\ABRASEL NACIONAL\\\\Documents\\\\GitHub\\\\ESTABELECIMENTOS_ETL\\\\rfb\\\\dados\\\\csv\\\\BASE_RFB.csv'"
      ]
     },
     "execution_count": 2,
     "metadata": {},
     "output_type": "execute_result"
    }
   ],
   "source": [
    "# pega o arquivo gerado\n",
    "base_rfb = current_dir + r\"\\BASE_RFB.csv\"\n",
    "base_rfb"
   ]
  },
  {
   "cell_type": "code",
   "execution_count": 14,
   "metadata": {},
   "outputs": [
    {
     "data": {
      "text/plain": [
       "CNAE_PRINCIPAL\n",
       "5611203           524288\n",
       "5611201           393216\n",
       "5612100           131072\n",
       "5611204           108435\n",
       "4721102            82952\n",
       "5611204            65536\n",
       "5612100            65010\n",
       "5611205            62023\n",
       "5611201            50886\n",
       "4721102            20935\n",
       "5611203            20386\n",
       "CNAE_PRINCIPAL         1\n",
       "Name: count, dtype: int64"
      ]
     },
     "execution_count": 14,
     "metadata": {},
     "output_type": "execute_result"
    }
   ],
   "source": [
    "import zipfile\n",
    "base_zip = current_dir.replace(r\"csv\", r\"backup\\BASE_RFB_22-05-2023 11_41_45.zip\")\n",
    "# extrair arquivo zip para uma pasta local\n",
    "with zipfile.ZipFile(base_zip, 'r') as zip_ref:\n",
    "    zip_ref.extractall('backup/')\n",
    "# criar dataframe com dados dos arquivos CSV\n",
    "df = pd.read_csv(f'backup/BASE_RFB.csv', sep=';')\n",
    "df.drop_duplicates(subset=['CNPJ', 'ENDERECO'], inplace=True)\n",
    "df['CNAE_PRINCIPAL'].value_counts()"
   ]
  },
  {
   "cell_type": "code",
   "execution_count": 3,
   "metadata": {},
   "outputs": [],
   "source": [
    "# qual cabeçalho nós usamos mesmo?\n",
    "cabecalho = [\"CNPJ\",\"RAZAO_SOCIAL\",\"NOME_FANTASIA\",\n",
    "             \"SITUACAO_CADASTRAL\",\"DATA_SITUACAO_CADASTRAL\",\n",
    "             \"DATA_INICIO_ATIVIDADE\",\"CNAE_PRINCIPAL\",\"ENDERECO\",\n",
    "             \"BAIRRO\",\"CIDADE\",\"UF\",\"CEP\",\"TELEFONE\",\"CNAE_DESCRICAO\", \"EMAIL\"]"
   ]
  },
  {
   "cell_type": "code",
   "execution_count": 5,
   "metadata": {},
   "outputs": [
    {
     "data": {
      "text/plain": [
       "CNAE_PRINCIPAL\n",
       "5611203    425897\n",
       "5611201    346048\n",
       "5612100    149070\n",
       "5611204    135741\n",
       "4721102     81547\n",
       "5611205     47573\n",
       "Name: count, dtype: Int64"
      ]
     },
     "execution_count": 5,
     "metadata": {},
     "output_type": "execute_result"
    }
   ],
   "source": [
    "# carregada os dados no dataframe pandas aqui, simples né?\n",
    "dados  = pd.read_csv(base_rfb, sep=\";\",usecols=cabecalho, dtype=\"string\")\n",
    "dados['CNAE_PRINCIPAL'].value_counts()"
   ]
  },
  {
   "cell_type": "code",
   "execution_count": 6,
   "metadata": {},
   "outputs": [
    {
     "data": {
      "text/html": [
       "<div>\n",
       "<style scoped>\n",
       "    .dataframe tbody tr th:only-of-type {\n",
       "        vertical-align: middle;\n",
       "    }\n",
       "\n",
       "    .dataframe tbody tr th {\n",
       "        vertical-align: top;\n",
       "    }\n",
       "\n",
       "    .dataframe thead th {\n",
       "        text-align: right;\n",
       "    }\n",
       "</style>\n",
       "<table border=\"1\" class=\"dataframe\">\n",
       "  <thead>\n",
       "    <tr style=\"text-align: right;\">\n",
       "      <th></th>\n",
       "      <th>RAZAO_SOCIAL</th>\n",
       "      <th>NOME_FANTASIA</th>\n",
       "      <th>DATA_INICIO_ATIVIDADE</th>\n",
       "      <th>CNAE_PRINCIPAL</th>\n",
       "      <th>CNAE_DESCRICAO</th>\n",
       "      <th>BAIRRO</th>\n",
       "      <th>CIDADE</th>\n",
       "      <th>UF</th>\n",
       "      <th>CEP</th>\n",
       "    </tr>\n",
       "  </thead>\n",
       "  <tbody>\n",
       "    <tr>\n",
       "      <th>count</th>\n",
       "      <td>1185876</td>\n",
       "      <td>912204</td>\n",
       "      <td>1185876</td>\n",
       "      <td>1185876</td>\n",
       "      <td>1185876</td>\n",
       "      <td>1184347</td>\n",
       "      <td>1185876</td>\n",
       "      <td>1185876</td>\n",
       "      <td>1185851</td>\n",
       "    </tr>\n",
       "    <tr>\n",
       "      <th>unique</th>\n",
       "      <td>1164909</td>\n",
       "      <td>651386</td>\n",
       "      <td>16304</td>\n",
       "      <td>6</td>\n",
       "      <td>6</td>\n",
       "      <td>84974</td>\n",
       "      <td>5277</td>\n",
       "      <td>28</td>\n",
       "      <td>312538</td>\n",
       "    </tr>\n",
       "    <tr>\n",
       "      <th>top</th>\n",
       "      <td>ARCOS DOURADOS COMERCIO DE ALIMENTOS SA</td>\n",
       "      <td>BAR DOS AMIGOS</td>\n",
       "      <td>20230321</td>\n",
       "      <td>5611203</td>\n",
       "      <td>LANCHONETES CASAS DE CHÁ DE SUCOS E SIMILARES</td>\n",
       "      <td>CENTRO</td>\n",
       "      <td>SAO PAULO</td>\n",
       "      <td>SP</td>\n",
       "      <td>11740000</td>\n",
       "    </tr>\n",
       "    <tr>\n",
       "      <th>freq</th>\n",
       "      <td>927</td>\n",
       "      <td>1220</td>\n",
       "      <td>701</td>\n",
       "      <td>425897</td>\n",
       "      <td>425897</td>\n",
       "      <td>204769</td>\n",
       "      <td>87251</td>\n",
       "      <td>329442</td>\n",
       "      <td>1424</td>\n",
       "    </tr>\n",
       "  </tbody>\n",
       "</table>\n",
       "</div>"
      ],
      "text/plain": [
       "                                   RAZAO_SOCIAL   NOME_FANTASIA   \n",
       "count                                   1185876          912204  \\\n",
       "unique                                  1164909          651386   \n",
       "top     ARCOS DOURADOS COMERCIO DE ALIMENTOS SA  BAR DOS AMIGOS   \n",
       "freq                                        927            1220   \n",
       "\n",
       "       DATA_INICIO_ATIVIDADE CNAE_PRINCIPAL   \n",
       "count                1185876        1185876  \\\n",
       "unique                 16304              6   \n",
       "top                 20230321        5611203   \n",
       "freq                     701         425897   \n",
       "\n",
       "                                       CNAE_DESCRICAO   BAIRRO     CIDADE   \n",
       "count                                         1185876  1184347    1185876  \\\n",
       "unique                                              6    84974       5277   \n",
       "top     LANCHONETES CASAS DE CHÁ DE SUCOS E SIMILARES   CENTRO  SAO PAULO   \n",
       "freq                                           425897   204769      87251   \n",
       "\n",
       "             UF       CEP  \n",
       "count   1185876   1185851  \n",
       "unique       28    312538  \n",
       "top          SP  11740000  \n",
       "freq     329442      1424  "
      ]
     },
     "execution_count": 6,
     "metadata": {},
     "output_type": "execute_result"
    }
   ],
   "source": [
    "\n",
    "dados[[\"RAZAO_SOCIAL\", \"NOME_FANTASIA\", \"DATA_INICIO_ATIVIDADE\", \"CNAE_PRINCIPAL\", \"CNAE_DESCRICAO\", \"BAIRRO\", \"CIDADE\", \"UF\", \"CEP\"]].describe()"
   ]
  },
  {
   "cell_type": "code",
   "execution_count": null,
   "metadata": {},
   "outputs": [],
   "source": [
    "# a parte de transform de fato está toda aqui, bem simples:\n",
    "# com quaanto de dadps começou?\n",
    "logging.info(f\"Tinham: {dados.shape[0]} dados\")\n",
    "# Remove os dados duplicados, estranho que sempre aparecem\n",
    "dados.drop_duplicates(inplace=True, ignore_index=True)\n",
    "dados.drop_duplicates(subset=[\"CNPJ\"])\n",
    "# coloca tudo em uppercase\n",
    "dados[\"CNAE_DESCRICAO\"] = dados[\"CNAE_DESCRICAO\"].str.upper()\n",
    "dados[\"ENDERECO\"] = dados[\"ENDERECO\"].str.strip()\n",
    "\n",
    "# filtrando as colunas que vamos usar depois de toda a brincadeira\n",
    "dados = dados[[\"CNPJ\", \"RAZAO_SOCIAL\",\"NOME_FANTASIA\", \n",
    "               \"ENDERECO\", \"BAIRRO\", \"CIDADE\", \"UF\", \n",
    "               \"CEP\", \"TELEFONE\", \"EMAIL\", \"CNAE_PRINCIPAL\",\n",
    "               \"CNAE_DESCRICAO\",\"SITUACAO_CADASTRAL\",\n",
    "               \"DATA_SITUACAO_CADASTRAL\", \"DATA_INICIO_ATIVIDADE\"]]\n",
    "\n",
    "# conta quando de dados sobrou\n",
    "logging.info(f\"ficaram: {dados.shape[0]} dados\")\n",
    "\n",
    "dados.head(5)"
   ]
  },
  {
   "cell_type": "code",
   "execution_count": null,
   "metadata": {},
   "outputs": [],
   "source": [
    "# Salva tudo novamente desta vez com um csv e no banco de dados, a galera gosta de \"variedades\"\n",
    "dados.to_csv(base_rfb,sep=\";\", index=False, encoding=\"utf-8\")\n",
    "#Criar uma conexão com o banco de dados sqlite\n",
    "db_file = current_dir.replace(r\"rfb\\dados\\csv\", r\"app\\files\\database.db\")\n",
    "conn = sqlite3.connect(database=db_file)\n",
    "\n",
    "#Converter o dataframe em uma tabela no banco de dados\n",
    "\"\"\"\n",
    "O parâmetro if_exists=`append` verifica se a tabela já existe e incrementa os dados\n",
    "O parâmetro index=False evita que o índice do dataframe seja inserido na tabela\n",
    "O parâmetro dtype define o tipo de cada coluna na tabela\n",
    "\"\"\"\n",
    "dados.to_sql(\"tb_rfb\", conn, \n",
    "             if_exists=\"replace\", index=False, \n",
    "             dtype={\"CNPJ\": \"TEXT PRIMARY KEY\", \n",
    "                    \"RAZAO_SOCIAL\": \"TEXT\", \"NOME_FANTASIA\": \"TEXT\", \n",
    "                    \"ENDERECO\": \"TEXT\", \"BAIRRO\": \"TEXT\", \"CIDADE\": \"TEXT\", \n",
    "                    \"UF\": \"TEXT\", \"CEP\": \"TEXT\", \n",
    "                    \"TELEFONE\": \"TEXT\", \"EMAIL\": \"TEXT\", \n",
    "                    \"CNAE_PRINCIPAL\": \"TEXT\", \"CNAE_DESCRICAO\": \"TEXT\",\n",
    "                    \"SITUACAO_CADASTRAL\" : \"TEXT\", \"DATA_SITUACAO_CADASTRAL\" : \"TEXT\",\n",
    "                    \"DATA_INICIO_ATIVIDADE\" : \"TEXT\"})\n",
    "# Finaliza a transação\n",
    "conn.commit()\n",
    "# Executa o comando VACUUM para compactar o banco de dados\n",
    "conn.execute(\"VACUUM\")\n",
    "\n",
    "# Fechar a conexão com o banco de dados\n",
    "conn.close()"
   ]
  }
 ],
 "metadata": {
  "kernelspec": {
   "display_name": ".venv",
   "language": "python",
   "name": "python3"
  },
  "language_info": {
   "codemirror_mode": {
    "name": "ipython",
    "version": 3
   },
   "file_extension": ".py",
   "mimetype": "text/x-python",
   "name": "python",
   "nbconvert_exporter": "python",
   "pygments_lexer": "ipython3",
   "version": "3.9.10"
  },
  "orig_nbformat": 4
 },
 "nbformat": 4,
 "nbformat_minor": 2
}
