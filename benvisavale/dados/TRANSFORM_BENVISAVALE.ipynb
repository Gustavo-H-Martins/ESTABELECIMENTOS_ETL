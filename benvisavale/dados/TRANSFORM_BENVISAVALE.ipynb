{
 "cells": [
  {
   "cell_type": "code",
   "execution_count": 1,
   "metadata": {},
   "outputs": [],
   "source": [
    "# libs\n",
    "import pandas as pd\n",
    "import warnings\n",
    "import os\n",
    "from unidecode import unidecode \n",
    "import logging\n",
    "warnings.filterwarnings('ignore')\n",
    "pd.option_context(10,5)\n",
    "\n",
    "#define o caminho do diretório atual\n",
    "current_dir = os.getcwd()\n",
    "file_logs = current_dir.replace(r'benvisavale\\dados',r'logs\\benvisavale.log')\n",
    "# configurando o registro de logs\n",
    "logging.basicConfig(level=logging.DEBUG, filename=file_logs,encoding='utf-8', format=\"%(asctime)s - %(levelname)s - %(message)s\")\n"
   ]
  },
  {
   "cell_type": "code",
   "execution_count": 2,
   "metadata": {},
   "outputs": [],
   "source": [
    "# pega o arquivo gerado\n",
    "base_benvisavale = r'./BASE_BENVISAVALE.csv'"
   ]
  },
  {
   "cell_type": "code",
   "execution_count": 3,
   "metadata": {},
   "outputs": [],
   "source": [
    "# qual cabeçalho nós usamos mesmo?\n",
    "cabecalho = ['ESTABELECIMENTOS',\n",
    " 'CEP',\n",
    " 'LOGRADOURO',\n",
    " 'NUMERO',\n",
    " 'BAIRRO',\n",
    " 'MUNICIPIO',\n",
    " 'UF',\n",
    " 'PAIS',\n",
    " 'EMAIL',\n",
    " 'DDD',\n",
    " 'TELEFONE',\n",
    " 'LATITUDE',\n",
    " 'LONGITUDE']"
   ]
  },
  {
   "cell_type": "code",
   "execution_count": 4,
   "metadata": {},
   "outputs": [],
   "source": [
    "# carregada os dados no dataframe pandas aqui, simples né?\n",
    "dados  = pd.read_csv(base_benvisavale, \n",
    "                        index_col=False, \n",
    "                        encoding='utf-8',\n",
    "                        on_bad_lines='warn',\n",
    "                        sep=';',\n",
    "                        names=cabecalho)"
   ]
  },
  {
   "cell_type": "code",
   "execution_count": 5,
   "metadata": {},
   "outputs": [],
   "source": [
    "# a parte de transform de fato está toda aqui, bem simples:\n",
    "# com quaanto de dadps começou?\n",
    "logging.info(f'Tinham: {dados.shape[0]} dados')\n",
    "# Remove os dados duplicados, estranho que sempre aparecem\n",
    "dados.drop_duplicates(inplace=True, ignore_index=True)\n",
    "\n",
    "# coloca tudo em uppercase\n",
    "dados['ESTABELECIMENTOS'] = dados['ESTABELECIMENTOS'].str.upper()\n",
    "dados['LOGRADOURO'] = dados['LOGRADOURO'].str.upper()\n",
    "dados['BAIRRO'] = dados['BAIRRO'].str.upper()\n",
    "dados['MUNICIPIO'] = dados['MUNICIPIO'].str.upper()\n",
    "dados['PAIS'] = dados['PAIS'].str.upper()\n",
    "\n",
    "# criando a coluna \"BANDEIRA\", é bom pra evitar problema né fiotin?\n",
    "dados['BANDEIRA'] = 'BENVISAVALE'\n",
    "\n",
    "# concatena o ddd + telefone\n",
    "dados['TELEFONE'] = dados['DDD'].map(str).replace('.0','') + ' ' + dados['TELEFONE'].map(str).replace('.0', '')\n",
    "\n",
    "# concatena \n",
    "dados['ENDERECO'] = dados['LOGRADOURO'].map(str) + ', ' + dados['BAIRRO'].map(str) + ', ' + dados['NUMERO'].map(str) + ', ' + dados['MUNICIPIO'].map(str) + '-' + dados['UF'].map(str)\n",
    "\n",
    "\"\"\"\n",
    "# tá ai uma coluna inútil, mas com muita utilidade\n",
    "dados['Cidade_UF'] = dados['MUNICIPIO'].map(str) + ', ' + dados['UF'].map(str)\n",
    "\"\"\"\n",
    "\n",
    "# filtrando as colunas que vamos usar depois de toda a brincadeira\n",
    "dados = dados[['ESTABELECIMENTOS',\t'ENDERECO',\t'BAIRRO',\t'MUNICIPIO',\t'UF',\t'CEP',\t'TELEFONE', 'EMAIL', 'LATITUDE',\t'LONGITUDE', 'BANDEIRA']]\n",
    "\n",
    "# conta quando de dados sobrou\n",
    "logging.info(f'ficaram: {dados.shape[0]} dados')"
   ]
  },
  {
   "cell_type": "code",
   "execution_count": 6,
   "metadata": {},
   "outputs": [],
   "source": [
    "# adicionando a coluna padrão ibge, é muito útil para colocar em mapas e essas coisas legais de geoprocessamento\n",
    "CIDADE_PADRAO_IBGE=[]\n",
    "for municipio in dados['MUNICIPIO']:\n",
    "    CIDADE_PADRAO_IBGE.append(unidecode(str(municipio)))\n",
    "dados['CIDADE_PADRAO_IBGE'] = CIDADE_PADRAO_IBGE\n"
   ]
  },
  {
   "cell_type": "code",
   "execution_count": 7,
   "metadata": {},
   "outputs": [],
   "source": [
    "# tirando os telefones fakes ou sem valor interessante\n",
    "telefone = []\n",
    "for i in dados['TELEFONE']:\n",
    "    if len(str(i)) < 9:\n",
    "        telefone.append('Indisponível')\n",
    "    else:\n",
    "        telefone.append(str(i))\n",
    "dados['TELEFONE'] = telefone"
   ]
  },
  {
   "cell_type": "code",
   "execution_count": 9,
   "metadata": {},
   "outputs": [],
   "source": [
    "# conta quantos de dados tinham antes de tirar os telefones nulos\n",
    "logging.info(f'ficaram: {dados.shape[0]} dados')\n",
    "dados.drop(dados[dados['TELEFONE'] == 'Indisponível'].index, inplace=True)\n",
    "# contando quantos ficaram depois de tirar os nulos\n",
    "logging.info(f'ficaram: {dados.shape[0]} dados')"
   ]
  },
  {
   "cell_type": "code",
   "execution_count": null,
   "metadata": {},
   "outputs": [],
   "source": [
    "# Salva tudo novamente desta vez com um csv e outro excel, a galera gosta de \"variedades\"\n",
    "dados.to_csv(base_benvisavale,sep=';', index=False, encoding='utf-8')\n",
    "dados.to_excel('./BASE_BENVISAVALE.xlsx',sheet_name='BASE ALELO', index=False)"
   ]
  },
  {
   "cell_type": "code",
   "execution_count": null,
   "metadata": {},
   "outputs": [],
   "source": [
    "'CNPJ', 'RAZAO_SOCIAL', 'NOME_FANTASIA', 'RUA', 'NUMERO', 'COMPLEMENTO', 'BAIRRO', 'CIDADE', 'ESTADO', 'CEP', 'LATITUDE', 'LONGITUDE', 'TELEFONE1', 'SITE', 'CNAE_DESCRICAO', 'HORARIO_FUNCIONAMENTO', 'INSTAGRAM', 'FACEBOOK', 'OPCOES_DE_SERVICO'"
   ]
  }
 ],
 "metadata": {
  "kernelspec": {
   "display_name": ".venv",
   "language": "python",
   "name": "python3"
  },
  "language_info": {
   "codemirror_mode": {
    "name": "ipython",
    "version": 3
   },
   "file_extension": ".py",
   "mimetype": "text/x-python",
   "name": "python",
   "nbconvert_exporter": "python",
   "pygments_lexer": "ipython3",
   "version": "3.9.13"
  },
  "orig_nbformat": 4
 },
 "nbformat": 4,
 "nbformat_minor": 2
}
