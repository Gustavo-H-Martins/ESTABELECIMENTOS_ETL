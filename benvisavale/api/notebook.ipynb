{
 "cells": [
  {
   "cell_type": "code",
   "execution_count": 2,
   "metadata": {},
   "outputs": [],
   "source": [
    "# libs\n",
    "from request_benvisavale_api import get_estabelecimentos\n",
    "import pandas as pd"
   ]
  },
  {
   "cell_type": "code",
   "execution_count": 4,
   "metadata": {},
   "outputs": [
    {
     "data": {
      "text/html": [
       "<div><style>\n",
       ".dataframe > thead > tr > th,\n",
       ".dataframe > tbody > tr > td {\n",
       "  text-align: right;\n",
       "}\n",
       "</style>\n",
       "<small>shape: (191, 13)</small><table border=\"1\" class=\"dataframe\"><thead><tr><th>ESTABELECIMENTOS</th><th>CEP</th><th>LOGRADOURO</th><th>NUMERO</th><th>BAIRRO</th><th>MUNICIPIO</th><th>UF</th><th>PAIS</th><th>EMAIL</th><th>DDD</th><th>TELEFONE</th><th>LATITUDE</th><th>LONGITUDE</th></tr><tr><td>str</td><td>str</td><td>str</td><td>str</td><td>str</td><td>str</td><td>str</td><td>str</td><td>str</td><td>str</td><td>str</td><td>f64</td><td>f64</td></tr></thead><tbody><tr><td>&quot;BETEL EMPORIO&quot;</td><td>&quot;03191110&quot;</td><td>&quot;RUA RUA MIGUEL…</td><td>&quot;295&quot;</td><td>&quot;APT 31 VILA CA…</td><td>&quot;SAO PAULO&quot;</td><td>&quot;SP&quot;</td><td>&quot;Brasil&quot;</td><td>&quot;betelemporio7@…</td><td>&quot;33&quot;</td><td>&quot;33333333&quot;</td><td>-23.566823</td><td>-46.57056</td></tr><tr><td>&quot;laticinios maz…</td><td>&quot;03345001&quot;</td><td>&quot;AV SAPOPEMBA&quot;</td><td>&quot;1326&quot;</td><td>&quot;VILA LEME&quot;</td><td>&quot;SAO PAULO&quot;</td><td>&quot;SP&quot;</td><td>&quot;Brasil&quot;</td><td>&quot;mazilliltda@gm…</td><td>&quot;&quot;</td><td>&quot;&quot;</td><td>-23.566633</td><td>-46.569747</td></tr><tr><td>&quot;AR Mult Carnes…</td><td>&quot;03345000&quot;</td><td>&quot;SAPOPEMBA&quot;</td><td>&quot;1304&quot;</td><td>&quot;VL REG FEIJO&quot;</td><td>&quot;São Paulo&quot;</td><td>&quot;SP&quot;</td><td>&quot;Brasil&quot;</td><td>&quot;ar.multicarnes…</td><td>&quot;11&quot;</td><td>&quot;20280115&quot;</td><td>-23.566364</td><td>-46.569753</td></tr><tr><td>&quot;GAUCHO ESPETOS…</td><td>&quot;03345001&quot;</td><td>&quot;AV SAPOPEMBA&quot;</td><td>&quot;1311&quot;</td><td>&quot;VILA REGENTE F…</td><td>&quot;SAO PAULO&quot;</td><td>&quot;SP&quot;</td><td>&quot;Brasil&quot;</td><td>&quot;gauchoespetos0…</td><td>&quot;11&quot;</td><td>&quot;947054702&quot;</td><td>-23.56643</td><td>-46.569512</td></tr><tr><td>&quot;OFFICINA DA CA…</td><td>&quot;03345001&quot;</td><td>&quot;AVENIDA SAPOPE…</td><td>&quot;1319&quot;</td><td>&quot;AN1321 VILA RE…</td><td>&quot;SAO PAULO&quot;</td><td>&quot;SP&quot;</td><td>&quot;Brasil&quot;</td><td>&quot;karinamarsulo@…</td><td>&quot;11&quot;</td><td>&quot;20152015&quot;</td><td>-23.566709</td><td>-46.569427</td></tr><tr><td>&quot;LANCHES DOMINE…</td><td>&quot;03345001&quot;</td><td>&quot;AV SAPOPEMBA&quot;</td><td>&quot;1246&quot;</td><td>&quot;AGUA RASA&quot;</td><td>&quot;SAO PAULO&quot;</td><td>&quot;SP&quot;</td><td>&quot;Brasil&quot;</td><td>&quot;re.beze@hotmai…</td><td>&quot;11&quot;</td><td>&quot;29655994&quot;</td><td>-23.565885</td><td>-46.569681</td></tr><tr><td>&quot;PRISCILLA LUCA…</td><td>&quot;03191140&quot;</td><td>&quot;RUA ATALAIA VE…</td><td>&quot;140&quot;</td><td>&quot;APT 51 C VILA …</td><td>&quot;SAO PAULO&quot;</td><td>&quot;SP&quot;</td><td>&quot;Brasil&quot;</td><td>&quot;machado.lucato…</td><td>&quot;11&quot;</td><td>&quot;28941220&quot;</td><td>-23.565773</td><td>-46.571347</td></tr><tr><td>&quot;GRIF BURGERS&quot;</td><td>&quot;03191140&quot;</td><td>&quot;RUA ATALAIA VE…</td><td>&quot;274&quot;</td><td>&quot;FUNDOS VILA CA…</td><td>&quot;SAO PAULO&quot;</td><td>&quot;SP&quot;</td><td>&quot;Brasil&quot;</td><td>&quot;gabi.fguedes@g…</td><td>&quot;11&quot;</td><td>&quot;22220000&quot;</td><td>-23.56669</td><td>-46.572313</td></tr><tr><td>&quot;PIZZARIA LOPES…</td><td>&quot;03191140&quot;</td><td>&quot;RUA ATALAIA VE…</td><td>&quot;0&quot;</td><td>&quot;LOJA VILA CANE…</td><td>&quot;SAO PAULO&quot;</td><td>&quot;SP&quot;</td><td>&quot;Brasil&quot;</td><td>&quot;poliveirasilva…</td><td>&quot;11&quot;</td><td>&quot;26417684&quot;</td><td>-23.565172</td><td>-46.570758</td></tr><tr><td>&quot;LA BRASA BURGE…</td><td>&quot;03345000&quot;</td><td>&quot;AV SAPOPEMBA&quot;</td><td>&quot;1118&quot;</td><td>&quot;VILA REGENTE F…</td><td>&quot;SAO PAULO&quot;</td><td>&quot;SP&quot;</td><td>&quot;Brasil&quot;</td><td>&quot;adm@xavierenge…</td><td>&quot;11&quot;</td><td>&quot;26596941&quot;</td><td>-23.565053</td><td>-46.570438</td></tr><tr><td>&quot;BELLA REGENTE&quot;</td><td>&quot;03345000&quot;</td><td>&quot;AV SAPOPEMBA&quot;</td><td>&quot;1540&quot;</td><td>&quot;VILA REGENTE F…</td><td>&quot;SAO PAULO&quot;</td><td>&quot;SP&quot;</td><td>&quot;Brasil&quot;</td><td>&quot;bellaregente@g…</td><td>&quot;11&quot;</td><td>&quot;24951540&quot;</td><td>-23.568481</td><td>-46.569725</td></tr><tr><td>&quot;Carnes Flama&quot;</td><td>&quot;03345001&quot;</td><td>&quot;AV SAPOPEMBA&quot;</td><td>&quot;1090&quot;</td><td>&quot;AGUA RASA&quot;</td><td>&quot;SAO PAULO&quot;</td><td>&quot;SP&quot;</td><td>&quot;Brasil&quot;</td><td>&quot;&quot;</td><td>&quot;11&quot;</td><td>&quot;29668335&quot;</td><td>-23.564948</td><td>-46.570682</td></tr><tr><td>&hellip;</td><td>&hellip;</td><td>&hellip;</td><td>&hellip;</td><td>&hellip;</td><td>&hellip;</td><td>&hellip;</td><td>&hellip;</td><td>&hellip;</td><td>&hellip;</td><td>&hellip;</td><td>&hellip;</td><td>&hellip;</td></tr><tr><td>&quot;BIG DELICIA RE…</td><td>&quot;03371000&quot;</td><td>&quot;AVENIDA MONTEM…</td><td>&quot;253&quot;</td><td>&quot;VILA FORMOSA&quot;</td><td>&quot;SAO PAULO&quot;</td><td>&quot;SP&quot;</td><td>&quot;Brasil&quot;</td><td>&quot;valdiroliveira…</td><td>&quot;11&quot;</td><td>&quot;26726602&quot;</td><td>-23.5645</td><td>-46.558934</td></tr><tr><td>&quot;PATI PIVA&quot;</td><td>&quot;03342000&quot;</td><td>&quot;AVENIDA REGENT…</td><td>&quot;1739&quot;</td><td>&quot;P 3 L LR39 VIL…</td><td>&quot;SAO PAULO&quot;</td><td>&quot;SP&quot;</td><td>&quot;Brasil&quot;</td><td>&quot;administrativo…</td><td>&quot;11&quot;</td><td>&quot;37581174&quot;</td><td>-23.5611</td><td>-46.56041</td></tr><tr><td>&quot;PIZZARIA E ESF…</td><td>&quot;03195000&quot;</td><td>&quot;RUA DO ORATORI…</td><td>&quot;2758&quot;</td><td>&quot;ALTO DA MOOCA&quot;</td><td>&quot;SAO PAULO&quot;</td><td>&quot;SP&quot;</td><td>&quot;Brasil&quot;</td><td>&quot;jkarlo.al@gmai…</td><td>&quot;11&quot;</td><td>&quot;29250414&quot;</td><td>-23.571463</td><td>-46.581366</td></tr><tr><td>&quot;FENIX PIZZARIA…</td><td>&quot;03186030&quot;</td><td>&quot;R NATAL&quot;</td><td>&quot;529&quot;</td><td>&quot;VILA BERTIOGA&quot;</td><td>&quot;SAO PAULO&quot;</td><td>&quot;SP&quot;</td><td>&quot;Brasil&quot;</td><td>&quot;&quot;</td><td>&quot;&quot;</td><td>&quot;&quot;</td><td>-23.563796</td><td>-46.582027</td></tr><tr><td>&quot;BRJT COMERCIO …</td><td>&quot;03185040&quot;</td><td>&quot;RUA MANAUS 342…</td><td>&quot;342&quot;</td><td>&quot;VILA BERTIOGA&quot;</td><td>&quot;SAO PAULO&quot;</td><td>&quot;SP&quot;</td><td>&quot;Brasil&quot;</td><td>&quot;eder@zdeli.com…</td><td>&quot;11&quot;</td><td>&quot;23052211&quot;</td><td>-23.564816</td><td>-46.582355</td></tr><tr><td>&quot;BAR DO PARAIBA…</td><td>&quot;03193120&quot;</td><td>&quot;R ANTONIO PADU…</td><td>&quot;100&quot;</td><td>&quot;VILA LIBANESA&quot;</td><td>&quot;SAO PAULO&quot;</td><td>&quot;SP&quot;</td><td>&quot;Brasil&quot;</td><td>&quot;&quot;</td><td>&quot;11&quot;</td><td>&quot;33863410&quot;</td><td>-23.576489</td><td>-46.576297</td></tr><tr><td>&quot;Supermercado D…</td><td>&quot;03193010 &quot;</td><td>&quot;ITAPIJI&quot;</td><td>&quot;115&quot;</td><td>&quot;VL LIBANESA&quot;</td><td>&quot;SAO PAULO&quot;</td><td>&quot;SP&quot;</td><td>&quot;Brasil&quot;</td><td>&quot;&quot;</td><td>&quot;11&quot;</td><td>&quot;96571604&quot;</td><td>-23.575194</td><td>-46.578362</td></tr><tr><td>&quot;Minimercado&quot;</td><td>&quot;08330095&quot;</td><td>&quot;SAPOPEMBA&quot;</td><td>&quot;3&quot;</td><td>&quot;SAPOPEMBA&quot;</td><td>&quot;SAO PAULO&quot;</td><td>&quot;SP&quot;</td><td>&quot;Brasil&quot;</td><td>&quot;jafer.marciano…</td><td>&quot;11&quot;</td><td>&quot;20245271&quot;</td><td>-23.557692</td><td>-46.577298</td></tr><tr><td>&quot;LANCHONETE ARE…</td><td>&quot;03193010&quot;</td><td>&quot;ITAPIJI&quot;</td><td>&quot;141&quot;</td><td>&quot;VL LIBANESA&quot;</td><td>&quot;SAO PAULO&quot;</td><td>&quot;SP&quot;</td><td>&quot;Brasil&quot;</td><td>&quot;toninhoengenha…</td><td>&quot;11&quot;</td><td>&quot;26014969&quot;</td><td>-23.575568</td><td>-46.577923</td></tr><tr><td>&quot;DOCES &amp; TRAVES…</td><td>&quot;03193010&quot;</td><td>&quot;R ITAPIJI&quot;</td><td>&quot;149&quot;</td><td>&quot;VILA LIBANESA&quot;</td><td>&quot;SAO PAULO&quot;</td><td>&quot;SP&quot;</td><td>&quot;Brasil&quot;</td><td>&quot;&quot;</td><td>&quot;&quot;</td><td>&quot;&quot;</td><td>-23.575733</td><td>-46.577691</td></tr><tr><td>&quot;padaria Dubai&quot;</td><td>&quot;03193010&quot;</td><td>&quot;R ITAPIJI&quot;</td><td>&quot;141&quot;</td><td>&quot;VILA LIBANEZA&quot;</td><td>&quot;SAO PAULO&quot;</td><td>&quot;SP&quot;</td><td>&quot;Brasil&quot;</td><td>&quot;padariadubai14…</td><td>&quot;11&quot;</td><td>&quot;29653711&quot;</td><td>-23.575602</td><td>-46.577963</td></tr><tr><td>&quot;BAR E LANCHES …</td><td>&quot;03357000&quot;</td><td>&quot;RUA TEMPLARIOS…</td><td>&quot;15&quot;</td><td>&quot;VILA FORMOSA&quot;</td><td>&quot;SAO PAULO&quot;</td><td>&quot;SP&quot;</td><td>&quot;Brasil&quot;</td><td>&quot;lucioalves1956…</td><td>&quot;11&quot;</td><td>&quot;26711355&quot;</td><td>-23.564536</td><td>-46.558662</td></tr></tbody></table></div>"
      ],
      "text/plain": [
       "shape: (191, 13)\n",
       "┌───────────────┬──────────┬──────────────┬────────┬───┬─────┬───────────┬────────────┬────────────┐\n",
       "│ ESTABELECIMEN ┆ CEP      ┆ LOGRADOURO   ┆ NUMERO ┆ … ┆ DDD ┆ TELEFONE  ┆ LATITUDE   ┆ LONGITUDE  │\n",
       "│ TOS           ┆ ---      ┆ ---          ┆ ---    ┆   ┆ --- ┆ ---       ┆ ---        ┆ ---        │\n",
       "│ ---           ┆ str      ┆ str          ┆ str    ┆   ┆ str ┆ str       ┆ f64        ┆ f64        │\n",
       "│ str           ┆          ┆              ┆        ┆   ┆     ┆           ┆            ┆            │\n",
       "╞═══════════════╪══════════╪══════════════╪════════╪═══╪═════╪═══════════╪════════════╪════════════╡\n",
       "│ BETEL EMPORIO ┆ 03191110 ┆ RUA RUA      ┆ 295    ┆ … ┆ 33  ┆ 33333333  ┆ -23.566823 ┆ -46.57056  │\n",
       "│               ┆          ┆ MIGUEL MOTA  ┆        ┆   ┆     ┆           ┆            ┆            │\n",
       "│               ┆          ┆ 295          ┆        ┆   ┆     ┆           ┆            ┆            │\n",
       "│ laticinios    ┆ 03345001 ┆ AV SAPOPEMBA ┆ 1326   ┆ … ┆     ┆           ┆ -23.566633 ┆ -46.569747 │\n",
       "│ mazilli       ┆          ┆              ┆        ┆   ┆     ┆           ┆            ┆            │\n",
       "│ AR Mult       ┆ 03345000 ┆ SAPOPEMBA    ┆ 1304   ┆ … ┆ 11  ┆ 20280115  ┆ -23.566364 ┆ -46.569753 │\n",
       "│ Carnes        ┆          ┆              ┆        ┆   ┆     ┆           ┆            ┆            │\n",
       "│ GAUCHO        ┆ 03345001 ┆ AV SAPOPEMBA ┆ 1311   ┆ … ┆ 11  ┆ 947054702 ┆ -23.56643  ┆ -46.569512 │\n",
       "│ ESPETOS       ┆          ┆              ┆        ┆   ┆     ┆           ┆            ┆            │\n",
       "│ …             ┆ …        ┆ …            ┆ …      ┆ … ┆ …   ┆ …         ┆ …          ┆ …          │\n",
       "│ LANCHONETE    ┆ 03193010 ┆ ITAPIJI      ┆ 141    ┆ … ┆ 11  ┆ 26014969  ┆ -23.575568 ┆ -46.577923 │\n",
       "│ ARENA         ┆          ┆              ┆        ┆   ┆     ┆           ┆            ┆            │\n",
       "│ FERREIRA      ┆          ┆              ┆        ┆   ┆     ┆           ┆            ┆            │\n",
       "│ DOCES &       ┆ 03193010 ┆ R ITAPIJI    ┆ 149    ┆ … ┆     ┆           ┆ -23.575733 ┆ -46.577691 │\n",
       "│ TRAVESSURAS   ┆          ┆              ┆        ┆   ┆     ┆           ┆            ┆            │\n",
       "│ padaria Dubai ┆ 03193010 ┆ R ITAPIJI    ┆ 141    ┆ … ┆ 11  ┆ 29653711  ┆ -23.575602 ┆ -46.577963 │\n",
       "│ BAR E LANCHES ┆ 03357000 ┆ RUA          ┆ 15     ┆ … ┆ 11  ┆ 26711355  ┆ -23.564536 ┆ -46.558662 │\n",
       "│ CURSI LTDA    ┆          ┆ TEMPLARIOS   ┆        ┆   ┆     ┆           ┆            ┆            │\n",
       "│               ┆          ┆ 15           ┆        ┆   ┆     ┆           ┆            ┆            │\n",
       "└───────────────┴──────────┴──────────────┴────────┴───┴─────┴───────────┴────────────┴────────────┘"
      ]
     },
     "execution_count": 4,
     "metadata": {},
     "output_type": "execute_result"
    }
   ],
   "source": [
    "base = get_estabelecimentos(latitude=' -23.566823', longitde='-46.57056')\n",
    "import polars as pl\n",
    "dados = pl.DataFrame(base)\n",
    "dados"
   ]
  },
  {
   "cell_type": "code",
   "execution_count": 7,
   "metadata": {},
   "outputs": [
    {
     "ename": "AttributeError",
     "evalue": "'DataFrame' object has no attribute 'append_csv'",
     "output_type": "error",
     "traceback": [
      "\u001b[1;31m---------------------------------------------------------------------------\u001b[0m",
      "\u001b[1;31mAttributeError\u001b[0m                            Traceback (most recent call last)",
      "Cell \u001b[1;32mIn[7], line 7\u001b[0m\n\u001b[0;32m      3\u001b[0m file_dados \u001b[39m=\u001b[39m \u001b[39mr\u001b[39m\u001b[39m'\u001b[39m\u001b[39mC:\u001b[39m\u001b[39m\\\u001b[39m\u001b[39mUsers\u001b[39m\u001b[39m\\\u001b[39m\u001b[39mgusta\u001b[39m\u001b[39m\\\u001b[39m\u001b[39mOneDrive\u001b[39m\u001b[39m\\\u001b[39m\u001b[39mDocumentos\u001b[39m\u001b[39m\\\u001b[39m\u001b[39mGitHub\u001b[39m\u001b[39m\\\u001b[39m\u001b[39mcoletor_leads_vouchers\u001b[39m\u001b[39m\\\u001b[39m\u001b[39mbenvisavale\u001b[39m\u001b[39m\\\u001b[39m\u001b[39mdados\u001b[39m\u001b[39m\\\u001b[39m\u001b[39mBASE_BENVISAVALE.csv\u001b[39m\u001b[39m'\u001b[39m\n\u001b[0;32m      4\u001b[0m \u001b[39mif\u001b[39;00m os\u001b[39m.\u001b[39mpath\u001b[39m.\u001b[39misfile(file_dados) \u001b[39mand\u001b[39;00m os\u001b[39m.\u001b[39mpath\u001b[39m.\u001b[39mgetsize(file_dados) \u001b[39m>\u001b[39m \u001b[39m0\u001b[39m:\n\u001b[0;32m      5\u001b[0m     \u001b[39m# Se o arquivo já existir e tiver algum tamanho,\u001b[39;00m\n\u001b[0;32m      6\u001b[0m     \u001b[39m# escrever o dataframe sem cabeçalho\u001b[39;00m\n\u001b[1;32m----> 7\u001b[0m     dados\u001b[39m.\u001b[39;49mappend_csv(file_dados, sep\u001b[39m=\u001b[39m\u001b[39m'\u001b[39m\u001b[39m;\u001b[39m\u001b[39m'\u001b[39m, header\u001b[39m=\u001b[39mfile_dados\u001b[39m.\u001b[39mtell() \u001b[39m==\u001b[39m \u001b[39m0\u001b[39m, ignore_index\u001b[39m=\u001b[39m\u001b[39mTrue\u001b[39;00m)\n\u001b[0;32m      8\u001b[0m \u001b[39melse\u001b[39;00m:\n\u001b[0;32m      9\u001b[0m     \u001b[39m# Se o arquivo não existir ou estiver vazio,\u001b[39;00m\n\u001b[0;32m     10\u001b[0m     \u001b[39m# escrever o dataframe com cabeçalho\u001b[39;00m\n\u001b[0;32m     11\u001b[0m     \u001b[39m# Adicionar o dataframe ao arquivo CSV existente\u001b[39;00m\n\u001b[0;32m     12\u001b[0m     dados\u001b[39m.\u001b[39mwrite_csv(file_dados,separator\u001b[39m=\u001b[39m\u001b[39m'\u001b[39m\u001b[39m;\u001b[39m\u001b[39m'\u001b[39m)\n",
      "File \u001b[1;32mc:\\Users\\gusta\\OneDrive\\Documentos\\GitHub\\coletor_leads_vouchers\\.venv\\lib\\site-packages\\polars\\utils\\decorators.py:179\u001b[0m, in \u001b[0;36mredirect.<locals>._redirecting_getattr_\u001b[1;34m(obj, item)\u001b[0m\n\u001b[0;32m    172\u001b[0m     warnings\u001b[39m.\u001b[39mwarn(\n\u001b[0;32m    173\u001b[0m         \u001b[39mf\u001b[39m\u001b[39m\"\u001b[39m\u001b[39m`\u001b[39m\u001b[39m{\u001b[39;00m\u001b[39mtype\u001b[39m(obj)\u001b[39m.\u001b[39m\u001b[39m__name__\u001b[39m\u001b[39m}\u001b[39;00m\u001b[39m.\u001b[39m\u001b[39m{\u001b[39;00mitem\u001b[39m}\u001b[39;00m\u001b[39m` has been renamed; this\u001b[39m\u001b[39m\"\u001b[39m\n\u001b[0;32m    174\u001b[0m         \u001b[39mf\u001b[39m\u001b[39m\"\u001b[39m\u001b[39m redirect is temporary, please use `.\u001b[39m\u001b[39m{\u001b[39;00mnew_item\u001b[39m}\u001b[39;00m\u001b[39m` instead\u001b[39m\u001b[39m\"\u001b[39m,\n\u001b[0;32m    175\u001b[0m         category\u001b[39m=\u001b[39m\u001b[39mDeprecationWarning\u001b[39;00m,\n\u001b[0;32m    176\u001b[0m         stacklevel\u001b[39m=\u001b[39m\u001b[39m2\u001b[39m,\n\u001b[0;32m    177\u001b[0m     )\n\u001b[0;32m    178\u001b[0m     item \u001b[39m=\u001b[39m new_item\n\u001b[1;32m--> 179\u001b[0m \u001b[39mreturn\u001b[39;00m obj\u001b[39m.\u001b[39;49m\u001b[39m__getattribute__\u001b[39;49m(item)\n",
      "\u001b[1;31mAttributeError\u001b[0m: 'DataFrame' object has no attribute 'append_csv'"
     ]
    }
   ],
   "source": [
    "import os\n",
    "# Salvar em csv em modo incremental\n",
    "file_dados = r'C:\\Users\\gusta\\OneDrive\\Documentos\\GitHub\\coletor_leads_vouchers\\benvisavale\\dados\\BASE_BENVISAVALE.csv'\n",
    "if os.path.isfile(file_dados) and os.path.getsize(file_dados) > 0:\n",
    "    # Se o arquivo já existir e tiver algum tamanho,\n",
    "    # escrever o dataframe sem cabeçalho\n",
    "    dados.append_csv(file_dados, sep=';', header=file_dados.tell() == 0, ignore_index=True)\n",
    "else:\n",
    "    # Se o arquivo não existir ou estiver vazio,\n",
    "    # escrever o dataframe com cabeçalho\n",
    "    # Adicionar o dataframe ao arquivo CSV existente\n",
    "    dados.write_csv(file_dados,separator=';')"
   ]
  },
  {
   "cell_type": "code",
   "execution_count": null,
   "metadata": {},
   "outputs": [],
   "source": []
  }
 ],
 "metadata": {
  "kernelspec": {
   "display_name": ".venv",
   "language": "python",
   "name": "python3"
  },
  "language_info": {
   "codemirror_mode": {
    "name": "ipython",
    "version": 3
   },
   "file_extension": ".py",
   "mimetype": "text/x-python",
   "name": "python",
   "nbconvert_exporter": "python",
   "pygments_lexer": "ipython3",
   "version": "3.9.13"
  },
  "orig_nbformat": 4
 },
 "nbformat": 4,
 "nbformat_minor": 2
}
