{
 "cells": [
  {
   "cell_type": "code",
   "execution_count": 1,
   "metadata": {},
   "outputs": [
    {
     "data": {
      "text/plain": [
       "CNPJ                      25575\n",
       "CNPJ_FORMATADO            25575\n",
       "NOME_FANTASIA             25575\n",
       "RAZAO_SOCIAL              25575\n",
       "INICIO_VIGENCIA           25575\n",
       "FIM_VIGENCIA              25575\n",
       "SITE                       4299\n",
       "TELEFONE                  25575\n",
       "CEP                       25575\n",
       "ENDERECO                  25575\n",
       "BAIRRO                    16731\n",
       "CIDADE                    25568\n",
       "UF                        25575\n",
       "ATIVIDADE                 25575\n",
       "COD_SITUACAO_CADASTRAL    25575\n",
       "SITUACAO_CADASTRAL        25575\n",
       "ID_PRESTADOR              25575\n",
       "URL_DETALHES_PRESTADOR    25575\n",
       "dtype: int64"
      ]
     },
     "execution_count": 1,
     "metadata": {},
     "output_type": "execute_result"
    }
   ],
   "source": [
    "import pandas as pd\n",
    "from request_api_cadastur import get_cadastur\n",
    "base = get_cadastur()\n",
    "dados = pd.DataFrame(base)\n",
    "dados.count()"
   ]
  },
  {
   "cell_type": "code",
   "execution_count": null,
   "metadata": {},
   "outputs": [],
   "source": []
  }
 ],
 "metadata": {
  "kernelspec": {
   "display_name": ".venv",
   "language": "python",
   "name": "python3"
  },
  "language_info": {
   "codemirror_mode": {
    "name": "ipython",
    "version": 3
   },
   "file_extension": ".py",
   "mimetype": "text/x-python",
   "name": "python",
   "nbconvert_exporter": "python",
   "pygments_lexer": "ipython3",
   "version": "3.9.10"
  },
  "orig_nbformat": 4
 },
 "nbformat": 4,
 "nbformat_minor": 2
}
