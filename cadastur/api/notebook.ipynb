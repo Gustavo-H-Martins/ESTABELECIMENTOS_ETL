{
 "cells": [
  {
   "cell_type": "code",
   "execution_count": null,
   "metadata": {},
   "outputs": [],
   "source": [
    "import pandas as pd\n",
    "from request_api_cadastur import get_cadastur\n",
    "base = get_cadastur()\n",
    "dados = pd.DataFrame(base)\n",
    "dados.count()"
   ]
  },
  {
   "cell_type": "code",
   "execution_count": null,
   "metadata": {},
   "outputs": [],
   "source": [
    "# Verificar se a coluna SITE tem \"@\" e mover o valor para a coluna INSTAGRAM\n",
    "dados[\"SITE\"] = dados[\"SITE\"].fillna(\"\")\n",
    "dados[\"BAIRRO\"] = dados[\"BAIRRO\"].fillna(\"\")\n",
    "dados.loc[dados[\"SITE\"].str.contains(\"@\"), \"INSTAGRAM\"] = dados[\"SITE\"].str.lower()\n",
    "dados.loc[dados[\"SITE\"].str.contains(\"@\"), \"SITE\"] = \"\"\n",
    "\n",
    "# Verificar se a coluna SITE tem \"facebook\" e mover o valor para a coluna FACEBOOK\n",
    "dados.loc[dados[\"SITE\"].str.contains(\"facebook\"), \"FACEBOOK\"] = dados[\"SITE\"].str.lower()\n",
    "dados.loc[dados[\"SITE\"].str.contains(\"facebook\"), \"SITE\"] = \"\"\n",
    "\n",
    "# Preencher as colunas INSTAGRAM e FACEBOOK com uma string vazia onde não houver um valor compatível na coluna SITE\n",
    "dados[\"INSTAGRAM\"] = dados[\"INSTAGRAM\"].fillna(\"\")\n",
    "dados[\"FACEBOOK\"] = dados[\"FACEBOOK\"].fillna(\"\")\n",
    "\n",
    "# Mostrar o resultado final\n",
    "dados.columns = dados.columns.str.strip()\n",
    "dados = dados[['CNPJ', 'CNPJ_FORMATADO', 'NOME_FANTASIA', 'RAZAO_SOCIAL',\n",
    "       'INICIO_VIGENCIA', 'FIM_VIGENCIA', 'SITE','INSTAGRAM', 'FACEBOOK', \n",
    "       'TELEFONE', 'CEP', 'ENDERECO', 'BAIRRO', 'CIDADE', 'UF', 'ATIVIDADE',\n",
    "       'COD_SITUACAO_CADASTRAL', 'SITUACAO_CADASTRAL', 'ID_PRESTADOR',\n",
    "       'URL_DETALHES_PRESTADOR']]\n",
    "dados"
   ]
  },
  {
   "cell_type": "code",
   "execution_count": null,
   "metadata": {},
   "outputs": [],
   "source": [
    "dados[\"BAIRRO\"].value_counts()"
   ]
  }
 ],
 "metadata": {
  "kernelspec": {
   "display_name": ".venv",
   "language": "python",
   "name": "python3"
  },
  "language_info": {
   "codemirror_mode": {
    "name": "ipython",
    "version": 3
   },
   "file_extension": ".py",
   "mimetype": "text/x-python",
   "name": "python",
   "nbconvert_exporter": "python",
   "pygments_lexer": "ipython3",
   "version": "3.9.10"
  },
  "orig_nbformat": 4
 },
 "nbformat": 4,
 "nbformat_minor": 2
}
