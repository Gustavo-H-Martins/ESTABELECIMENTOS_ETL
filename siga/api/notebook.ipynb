{
 "cells": [
  {
   "cell_type": "code",
   "execution_count": 1,
   "metadata": {},
   "outputs": [],
   "source": [
    "from request_siga_api import get_siga\n",
    "\n",
    "base = get_siga()"
   ]
  },
  {
   "cell_type": "code",
   "execution_count": 3,
   "metadata": {},
   "outputs": [],
   "source": [
    "import pandas as pd\n",
    "dados = pd.DataFrame(base)\n"
   ]
  },
  {
   "cell_type": "code",
   "execution_count": 11,
   "metadata": {},
   "outputs": [
    {
     "data": {
      "text/plain": [
       "0        False\n",
       "1        False\n",
       "2        False\n",
       "3        False\n",
       "4        False\n",
       "         ...  \n",
       "29571    False\n",
       "29572    False\n",
       "29573    False\n",
       "29574    False\n",
       "29575    False\n",
       "Name: CNPJ, Length: 29576, dtype: bool"
      ]
     },
     "execution_count": 11,
     "metadata": {},
     "output_type": "execute_result"
    }
   ],
   "source": [
    "duplicados = dados['CNPJ'].duplicated()\n",
    "duplicados\n"
   ]
  },
  {
   "cell_type": "code",
   "execution_count": 21,
   "metadata": {},
   "outputs": [
    {
     "name": "stderr",
     "output_type": "stream",
     "text": [
      "C:\\Users\\ABRASEL NACIONAL\\AppData\\Local\\Temp\\ipykernel_16880\\3927039251.py:2: SettingWithCopyWarning: \n",
      "A value is trying to be set on a copy of a slice from a DataFrame\n",
      "\n",
      "See the caveats in the documentation: https://pandas.pydata.org/pandas-docs/stable/user_guide/indexing.html#returning-a-view-versus-a-copy\n",
      "  NOVOS.sort_values(by=['CNPJ'], ascending=True, inplace=True)\n"
     ]
    }
   ],
   "source": [
    "NOVOS = dados[dados['CNPJ'].duplicated() == True]\n",
    "NOVOS.sort_values(by=['CNPJ'], ascending=True, inplace=True)\n",
    "NOVOS.reset_index()\n",
    "NOVOS.to_excel('./SIGA_DUPLICADOS_CNPJ.xlsx',sheet_name=\"CNPJs DUPLICADOS NO SIGA\", index=False)"
   ]
  }
 ],
 "metadata": {
  "kernelspec": {
   "display_name": ".venv",
   "language": "python",
   "name": "python3"
  },
  "language_info": {
   "codemirror_mode": {
    "name": "ipython",
    "version": 3
   },
   "file_extension": ".py",
   "mimetype": "text/x-python",
   "name": "python",
   "nbconvert_exporter": "python",
   "pygments_lexer": "ipython3",
   "version": "3.9.10"
  },
  "orig_nbformat": 4
 },
 "nbformat": 4,
 "nbformat_minor": 2
}
