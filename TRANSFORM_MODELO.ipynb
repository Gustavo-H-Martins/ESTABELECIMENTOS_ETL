{
 "cells": [
  {
   "cell_type": "code",
   "execution_count": null,
   "metadata": {},
   "outputs": [],
   "source": [
    "# libs\n",
    "import pandas as pd\n",
    "import warnings\n",
    "import os\n",
    "import sqlite3\n",
    "import logging\n",
    "warnings.filterwarnings('ignore')\n",
    "pd.option_context(10,5)\n",
    "\n",
    "#define o caminho do diretório atual\n",
    "current_dir = os.getcwd()\n",
    "file_logs = current_dir.replace(r'sodexo\\dados',r'logs\\sodexo.log')\n",
    "# configurando o registro de logs\n",
    "logging.basicConfig(level=logging.DEBUG, filename=file_logs,encoding='utf-8', format=\"%(asctime)s - %(levelname)s - %(message)s\")\n"
   ]
  },
  {
   "cell_type": "code",
   "execution_count": null,
   "metadata": {},
   "outputs": [],
   "source": [
    "# pega o arquivo gerado\n",
    "base_sodexo = current_dir + r'\\BASE_SODEXO.csv'\n",
    "base_sodexo"
   ]
  },
  {
   "cell_type": "code",
   "execution_count": null,
   "metadata": {},
   "outputs": [],
   "source": [
    "# qual cabeçalho nós usamos mesmo?\n",
    "cabecalho = ['CNPJ', 'RAZAO_SOCIAL', 'ESTABELECIMENTOS',\n",
    "            'ENDERECO', 'BAIRRO', 'CIDADE',\n",
    "            'UF', 'CEP', 'TELEFONE',\n",
    "            'EMAIL', 'LATITUDE', 'LONGITUDE', 'BANDEIRA']"
   ]
  },
  {
   "cell_type": "code",
   "execution_count": null,
   "metadata": {},
   "outputs": [],
   "source": [
    "# carregada os dados no dataframe pandas aqui, simples né?\n",
    "\n",
    "dados  = pd.read_csv(base_sodexo, sep=';',usecols=cabecalho, dtype='string')"
   ]
  },
  {
   "cell_type": "code",
   "execution_count": null,
   "metadata": {},
   "outputs": [],
   "source": [
    "dados.head()"
   ]
  },
  {
   "cell_type": "code",
   "execution_count": null,
   "metadata": {},
   "outputs": [],
   "source": [
    "# a parte de transform de fato está toda aqui, bem simples:\n",
    "# com quaanto de dadps começou?\n",
    "logging.info(f'Tinham: {dados.shape[0]} dados')\n",
    "# Remove os dados duplicados, estranho que sempre aparecem\n",
    "dados.drop_duplicates(inplace=True, ignore_index=True)\n",
    "dados.drop_duplicates(subset=[\"RAZAO_SOCIAL\",\"ENDERECO\", \"BAIRRO\", \"CIDADE\", \"UF\"])\n",
    "# coloca tudo em uppercase\n",
    "dados['ESTABELECIMENTOS'] = dados['ESTABELECIMENTOS'].str.upper()\n",
    "dados['ENDERECO'] = dados['ENDERECO'].str.upper()\n",
    "dados['BAIRRO'] = dados['BAIRRO'].str.upper()\n",
    "dados['CIDADE'] = dados['CIDADE'].str.upper()\n",
    "\n",
    "# filtrando as colunas que vamos usar depois de toda a brincadeira\n",
    "dados = dados[['RAZAO_SOCIAL', 'ESTABELECIMENTOS', 'ENDERECO', 'BAIRRO', 'CIDADE', 'UF', 'CEP', 'TELEFONE', 'EMAIL', 'LATITUDE','LONGITUDE', 'BANDEIRA']]\n",
    "\n",
    "\n",
    "# conta quando de dados sobrou\n",
    "logging.info(f'ficaram: {dados.shape[0]} dados')\n"
   ]
  },
  {
   "cell_type": "code",
   "execution_count": null,
   "metadata": {},
   "outputs": [],
   "source": [
    "# tirando os telefones fakes ou sem valor interessante\n",
    "telefone = []\n",
    "for i in dados['TELEFONE']:\n",
    "    if len(str(i)) < 7:\n",
    "        telefone.append('Indisponível')\n",
    "    else:\n",
    "        telefone.append(str(i))\n",
    "dados['TELEFONE'] = telefone"
   ]
  },
  {
   "cell_type": "code",
   "execution_count": null,
   "metadata": {},
   "outputs": [],
   "source": [
    "# conta quantos de dados tinham antes de tirar os telefones nulos\n",
    "logging.info(f'ficaram: {dados.shape[0]} dados')\n",
    "dados.drop(dados[dados['TELEFONE'] == 'Indisponível'].index, inplace=True)\n",
    "# contando quantos ficaram depois de tirar os nulos\n",
    "logging.info(f'ficaram: {dados.shape[0]} dados')"
   ]
  },
  {
   "cell_type": "code",
   "execution_count": null,
   "metadata": {},
   "outputs": [],
   "source": [
    "#Criar uma conexão com o banco de dados sqlite\n",
    "db_file = current_dir.replace('sodexo\\dados', r'app\\files\\database.db')\n",
    "conn = sqlite3.connect(database=db_file)\n",
    "\n",
    "#Converter o dataframe em uma tabela no banco de dados\n",
    "\"\"\"\n",
    "O parâmetro if_exists=`append` verifica se a tabela já existe e incrementa os dados\n",
    "O parâmetro index=False evita que o índice do dataframe seja inserido na tabela\n",
    "O parâmetro dtype define o tipo de cada coluna na tabela\n",
    "\"\"\"\n",
    "dados.to_sql('tb_sodexo', conn, \n",
    "             if_exists='append', index=False, \n",
    "             dtype={'RAZAO_SOCIAL': 'TEXT', #PRIMARY KEY', \n",
    "                    'ESTABELECIMENTOS': 'TEXT', 'ENDERECO': 'TEXT', \n",
    "                    'BAIRRO': 'TEXT', 'CIDADE': 'TEXT', 'UF': 'TEXT', \n",
    "                    'CEP': 'TEXT', 'TELEFONE': 'TEXT', \n",
    "                    'EMAIL': 'TEXT', 'LATITUDE': 'TEXT', \n",
    "                    'LONGITUDE': 'TEXT', 'BANDEIRA': 'TEXT'})\n",
    "\n",
    "# Fechar a conexão com o banco de dados\n",
    "conn.close()"
   ]
  },
  {
   "cell_type": "code",
   "execution_count": null,
   "metadata": {},
   "outputs": [],
   "source": [
    "# Salva tudo novamente desta vez com um csv e no banco de dados, a galera gosta de \"variedades\"\n",
    "dados.to_csv(base_sodexo,sep=';', index=False, encoding='utf-8')\n",
    "#Criar uma conexão com o banco de dados sqlite\n",
    "db_file = current_dir.replace('sodexo\\dados', r'app\\files\\database.db')\n",
    "conn = sqlite3.connect(database=db_file)\n",
    "\n",
    "#Converter o dataframe em uma tabela no banco de dados\n",
    "\"\"\"\n",
    "O parâmetro if_exists=`append` verifica se a tabela já existe e incrementa os dados\n",
    "O parâmetro index=False evita que o índice do dataframe seja inserido na tabela\n",
    "O parâmetro dtype define o tipo de cada coluna na tabela\n",
    "\"\"\"\n",
    "dados.to_sql('tb_sodexo', conn, \n",
    "             if_exists='append', index=False, \n",
    "             dtype={'RAZAO_SOCIAL': 'TEXT', #PRIMARY KEY', \n",
    "                    'ESTABELECIMENTOS': 'TEXT', 'ENDERECO': 'TEXT', \n",
    "                    'BAIRRO': 'TEXT', 'CIDADE': 'TEXT', 'UF': 'TEXT', \n",
    "                    'CEP': 'TEXT', 'TELEFONE': 'TEXT', \n",
    "                    'EMAIL': 'TEXT', 'LATITUDE': 'TEXT', \n",
    "                    'LONGITUDE': 'TEXT', 'BANDEIRA': 'TEXT'})\n",
    "# Finaliza a transação\n",
    "conn.commit()\n",
    "# Executa o comando VACUUM para compactar o banco de dados\n",
    "conn.execute('VACUUM')\n",
    "\n",
    "# Fechar a conexão com o banco de dados\n",
    "conn.close()"
   ]
  }
 ],
 "metadata": {
  "kernelspec": {
   "display_name": ".venv",
   "language": "python",
   "name": "python3"
  },
  "language_info": {
   "codemirror_mode": {
    "name": "ipython",
    "version": 3
   },
   "file_extension": ".py",
   "mimetype": "text/x-python",
   "name": "python",
   "nbconvert_exporter": "python",
   "pygments_lexer": "ipython3",
   "version": "3.9.13"
  },
  "orig_nbformat": 4
 },
 "nbformat": 4,
 "nbformat_minor": 2
}
