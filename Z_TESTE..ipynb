{
 "cells": [
  {
   "cell_type": "code",
   "execution_count": 2,
   "metadata": {},
   "outputs": [
    {
     "data": {
      "text/plain": [
       "['2345SA#124']"
      ]
     },
     "execution_count": 2,
     "metadata": {},
     "output_type": "execute_result"
    }
   ],
   "source": [
    "import re\n",
    "retorno = re.findall(\"^[0-9]{2}([^@]+)\",\"952345SA#124@APNNE\")\n",
    "retorno"
   ]
  },
  {
   "cell_type": "code",
   "execution_count": 1,
   "metadata": {},
   "outputs": [
    {
     "data": {
      "text/plain": [
       "1000"
      ]
     },
     "execution_count": 1,
     "metadata": {},
     "output_type": "execute_result"
    }
   ],
   "source": [
    "def calculo_daora(x,y):\n",
    "    if y == 0:\n",
    "        return 0\n",
    "    elif y == 1:\n",
    "        return x\n",
    "    else : \n",
    "        return x +calculo_daora(x,y-1)\n",
    "\n",
    "valor = calculo_daora(2,500)\n",
    "valor"
   ]
  },
  {
   "cell_type": "code",
   "execution_count": 2,
   "metadata": {},
   "outputs": [],
   "source": [
    "def requisicao(uf:str=\"MG\"):\n",
    "    import requests\n",
    "    # Request da api na sensedia\n",
    "    url = \"https://api.abrasel.com.br/dev.api/v1/estabelecimentos\"\n",
    "    client_id = {\"client_id\": \"b78911f9-68ad-4b71-aca8-8dc21237b506\"}\n",
    "    params = {\n",
    "        \"cidade\":\"ARCOS\",\n",
    "        \"uf\":uf,\n",
    "        \"associados\":\"ATIVO\",\n",
    "        \"bandeira\" :\"ticket\",\n",
    "        \"pageSize\":\"50\"\n",
    "    }\n",
    "\n",
    "    response = requests.get(url=url, headers=client_id, params=params)\n",
    "\n",
    "    print(response.text)"
   ]
  },
  {
   "cell_type": "code",
   "execution_count": 4,
   "metadata": {},
   "outputs": [
    {
     "name": "stdout",
     "output_type": "stream",
     "text": [
      "[]\n",
      "Error forwarding call to back-end server. Message: Connect to ec2-52-67-164-51.sa-east-1.compute.amazonaws.com:3000 [ec2-52-67-164-51.sa-east-1.compute.amazonaws.com/52.67.164.51] failed: Connection refused (Connection refused)\n",
      "[]\n",
      "Error forwarding call to back-end server. Message: Connect to ec2-52-67-164-51.sa-east-1.compute.amazonaws.com:3000 [ec2-52-67-164-51.sa-east-1.compute.amazonaws.com/52.67.164.51] failed: Connection refused (Connection refused)\n",
      "[]\n",
      "Error forwarding call to back-end server. Message: Connect to ec2-52-67-164-51.sa-east-1.compute.amazonaws.com:3000 [ec2-52-67-164-51.sa-east-1.compute.amazonaws.com/52.67.164.51] failed: Connection refused (Connection refused)\n"
     ]
    }
   ],
   "source": [
    "UFS = [\"SP\", \"MG\", \"PE\", \"RO\", \"AC\", \"RJ\"]\n",
    "import time \n",
    "for uf in UFS:\n",
    "    time.sleep(1)\n",
    "    requisicao(uf=uf)"
   ]
  }
 ],
 "metadata": {
  "kernelspec": {
   "display_name": ".venv",
   "language": "python",
   "name": "python3"
  },
  "language_info": {
   "codemirror_mode": {
    "name": "ipython",
    "version": 3
   },
   "file_extension": ".py",
   "mimetype": "text/x-python",
   "name": "python",
   "nbconvert_exporter": "python",
   "pygments_lexer": "ipython3",
   "version": "3.9.10"
  },
  "orig_nbformat": 4
 },
 "nbformat": 4,
 "nbformat_minor": 2
}
