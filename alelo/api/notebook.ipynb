{
 "cells": [
  {
   "cell_type": "code",
   "execution_count": 1,
   "metadata": {},
   "outputs": [],
   "source": [
    "# libs\n",
    "from request_alelo_api import get_establishments, get_token, post_establishments\n",
    "import polars as pl\n",
    "import pandas as pd"
   ]
  },
  {
   "cell_type": "code",
   "execution_count": 2,
   "metadata": {},
   "outputs": [
    {
     "data": {
      "text/plain": [
       "{'token_type': 'Bearer',\n",
       " 'access_token': 'AAIkNzZhNzc1Y2QtOGIyYy00Y2U4LWI3YTUtYjMyMWM2NjIyM2Y3ZtH7Kteh_Q3toOtjWG57dAEtQy3SjOjGrE0kM7NMuUteXbjimUXVFIeSP4FNLQ-tVggj8g46zeJK5S3HfOa-zoo501Cfd17ucYzSAwXvf7vhRgSx5cT8w4Prmpx_Zz4ZGXEEGBETug0aWijLHw7-eg',\n",
       " 'expires_in': 3600,\n",
       " 'consented_on': 1680703969,\n",
       " 'scope': 'acceptance-network'}"
      ]
     },
     "execution_count": 2,
     "metadata": {},
     "output_type": "execute_result"
    }
   ],
   "source": [
    "token = get_token()\n",
    "token"
   ]
  },
  {
   "cell_type": "code",
   "execution_count": 3,
   "metadata": {},
   "outputs": [
    {
     "data": {
      "text/html": [
       "<div><style>\n",
       ".dataframe > thead > tr > th,\n",
       ".dataframe > tbody > tr > td {\n",
       "  text-align: right;\n",
       "}\n",
       "</style>\n",
       "<small>shape: (10000, 10)</small><table border=\"1\" class=\"dataframe\"><thead><tr><th>ESTABELECIMENTOS</th><th>ENDERECO</th><th>BAIRRO</th><th>MUNICIPIO</th><th>UF</th><th>CEP</th><th>DDD</th><th>TELEFONE</th><th>LATITUDE</th><th>LONGITUDE</th></tr><tr><td>str</td><td>str</td><td>str</td><td>str</td><td>str</td><td>str</td><td>str</td><td>str</td><td>str</td><td>str</td></tr></thead><tbody><tr><td>&quot;HANNA CAFE&quot;</td><td>&quot;Avenida Brigad…</td><td>&quot;Bela Vista&quot;</td><td>&quot;São Paulo&quot;</td><td>&quot;SP&quot;</td><td>&quot;01317904&quot;</td><td>&quot;11&quot;</td><td>&quot;31074889&quot;</td><td>&quot;-23.556697&quot;</td><td>&quot;-46.6397139&quot;</td></tr><tr><td>&quot;OSORIO VASCONC…</td><td>&quot;Rua Francisca …</td><td>&quot;Bela Vista&quot;</td><td>&quot;São Paulo&quot;</td><td>&quot;SP&quot;</td><td>&quot;01316000&quot;</td><td>&quot;11&quot;</td><td>&quot;00960416373&quot;</td><td>&quot;-23.5549859&quot;</td><td>&quot;-46.6401348&quot;</td></tr><tr><td>&quot;RECANTO DO ACA…</td><td>&quot;Rua Francisca …</td><td>&quot;Bela Vista&quot;</td><td>&quot;São Paulo&quot;</td><td>&quot;SP&quot;</td><td>&quot;01316000&quot;</td><td>&quot;11&quot;</td><td>&quot;30216573&quot;</td><td>&quot;-23.5550294&quot;</td><td>&quot;-46.6402452&quot;</td></tr><tr><td>&quot;SANDRA OLIVEIR…</td><td>&quot;Rua Santo Amar…</td><td>&quot;Bela Vista&quot;</td><td>&quot;São Paulo&quot;</td><td>&quot;SP&quot;</td><td>&quot;01315000&quot;</td><td>&quot;11&quot;</td><td>&quot;00031043602&quot;</td><td>&quot;-23.5551152&quot;</td><td>&quot;-46.6404535&quot;</td></tr><tr><td>&quot;JOSE ANTENIZIO…</td><td>&quot;Avenida Brigad…</td><td>&quot;Bela Vista&quot;</td><td>&quot;São Paulo&quot;</td><td>&quot;SP&quot;</td><td>&quot;01318001&quot;</td><td>&quot;11&quot;</td><td>&quot;31074298&quot;</td><td>&quot;-23.5566758&quot;</td><td>&quot;-46.640302&quot;</td></tr><tr><td>&quot;DOCERIA CORDEI…</td><td>&quot;Avenida Brigad…</td><td>&quot;Bela Vista&quot;</td><td>&quot;São Paulo&quot;</td><td>&quot;SP&quot;</td><td>&quot;01318001&quot;</td><td>&quot;11&quot;</td><td>&quot;31059561&quot;</td><td>&quot;-23.5566332&quot;</td><td>&quot;-46.6404248&quot;</td></tr><tr><td>&quot;TOCA CHOPP BUR…</td><td>&quot;Rua Francisca …</td><td>&quot;Bela Vista&quot;</td><td>&quot;São Paulo&quot;</td><td>&quot;SP&quot;</td><td>&quot;01316000&quot;</td><td>&quot;11&quot;</td><td>&quot;00031079772&quot;</td><td>&quot;-23.554517&quot;</td><td>&quot;-46.6402011&quot;</td></tr><tr><td>&quot;CREPE GRILL&quot;</td><td>&quot;Rua Francisca …</td><td>&quot;Bela Vista&quot;</td><td>&quot;São Paulo&quot;</td><td>&quot;SP&quot;</td><td>&quot;01316000&quot;</td><td>&quot;11&quot;</td><td>&quot;00031012920&quot;</td><td>&quot;-23.554517&quot;</td><td>&quot;-46.6402011&quot;</td></tr><tr><td>&quot;TEMPERO MINEIR…</td><td>&quot;Sp &quot;</td><td>&quot;Bela Vista&quot;</td><td>&quot;São Paulo&quot;</td><td>&quot;SP&quot;</td><td>&quot;01320030&quot;</td><td>&quot;11&quot;</td><td>&quot;00994887098&quot;</td><td>&quot;-23.5571583&quot;</td><td>&quot;-46.6397212&quot;</td></tr><tr><td>&quot;MINIMERCADO LJ…</td><td>&quot;Avenida Brigad…</td><td>&quot;Liberdade&quot;</td><td>&quot;São Paulo&quot;</td><td>&quot;SP&quot;</td><td>&quot;01317000&quot;</td><td>&quot;11&quot;</td><td>&quot;38860106&quot;</td><td>&quot;-23.5544701&quot;</td><td>&quot;-46.6387531&quot;</td></tr><tr><td>&quot;LANCHES UNIDOS…</td><td>&quot;Avenida Brigad…</td><td>&quot;Bela Vista&quot;</td><td>&quot;São Paulo&quot;</td><td>&quot;SP&quot;</td><td>&quot;01318000&quot;</td><td>&quot;11&quot;</td><td>&quot;999019005&quot;</td><td>&quot;-23.5543347&quot;</td><td>&quot;-46.6389477&quot;</td></tr><tr><td>&quot;JOIA DA BRIGAD…</td><td>&quot;Avenida Brigad…</td><td>&quot;Bela Vista&quot;</td><td>&quot;São Paulo&quot;</td><td>&quot;SP&quot;</td><td>&quot;01317001&quot;</td><td>&quot;11&quot;</td><td>&quot;31054179&quot;</td><td>&quot;-23.5571305&quot;</td><td>&quot;-46.6403928&quot;</td></tr><tr><td>&hellip;</td><td>&hellip;</td><td>&hellip;</td><td>&hellip;</td><td>&hellip;</td><td>&hellip;</td><td>&hellip;</td><td>&hellip;</td><td>&hellip;</td><td>&hellip;</td></tr><tr><td>&quot;STARBUCKS 086&quot;</td><td>&quot;Rua Funchal&quot;</td><td>&quot;Vila Olímpia&quot;</td><td>&quot;São Paulo&quot;</td><td>&quot;SP&quot;</td><td>&quot;04551060&quot;</td><td>&quot;11&quot;</td><td>&quot;30771036&quot;</td><td>&quot;-23.595571&quot;</td><td>&quot;-46.6902144&quot;</td></tr><tr><td>&quot;STARBUCKS STAR…</td><td>&quot;Rua Funchal 55…</td><td>&quot;Vila Olímpia&quot;</td><td>&quot;São Paulo&quot;</td><td>&quot;SP&quot;</td><td>&quot;04551060&quot;</td><td>&quot;11&quot;</td><td>&quot;30771036&quot;</td><td>&quot;-23.595571&quot;</td><td>&quot;-46.6902144&quot;</td></tr><tr><td>&quot;STARBUCKS STAR…</td><td>&quot;Rua Funchal 55…</td><td>&quot;Vila Olímpia&quot;</td><td>&quot;São Paulo&quot;</td><td>&quot;SP&quot;</td><td>&quot;04551060&quot;</td><td>&quot;11&quot;</td><td>&quot;30771012&quot;</td><td>&quot;-23.595571&quot;</td><td>&quot;-46.6902144&quot;</td></tr><tr><td>&quot;STARBUCKS STAR…</td><td>&quot;Rua Funchal 55…</td><td>&quot;Vila Olímpia&quot;</td><td>&quot;São Paulo&quot;</td><td>&quot;SP&quot;</td><td>&quot;04551060&quot;</td><td>&quot;11&quot;</td><td>&quot;30771012&quot;</td><td>&quot;-23.595571&quot;</td><td>&quot;-46.6902144&quot;</td></tr><tr><td>&quot;ESPACO IBISCO&quot;</td><td>&quot;Avenida Doutor…</td><td>&quot;Vila Olímpia&quot;</td><td>&quot;São Paulo&quot;</td><td>&quot;SP&quot;</td><td>&quot;04548005&quot;</td><td>&quot;11&quot;</td><td>&quot;30444850&quot;</td><td>&quot;-23.5966901&quot;</td><td>&quot;-46.689147&quot;</td></tr><tr><td>&quot;CINEMARK-BOULE…</td><td>&quot;R GONCALVES CR…</td><td>&quot;Tatuapé&quot;</td><td>&quot;São Paulo&quot;</td><td>&quot;SP&quot;</td><td>&quot;03066030&quot;</td><td>&quot;1&quot;</td><td>&quot;30487048&quot;</td><td>&quot;-23.538538&quot;</td><td>&quot;-46.5755367&quot;</td></tr><tr><td>&quot;DON KURTOS&quot;</td><td>&quot;RUA GONCALVES …</td><td>&quot;Tatuapé&quot;</td><td>&quot;São Paulo&quot;</td><td>&quot;SP&quot;</td><td>&quot;03066030&quot;</td><td>&quot;55&quot;</td><td>&quot;119446678&quot;</td><td>&quot;-23.538538&quot;</td><td>&quot;-46.5755367&quot;</td></tr><tr><td>&quot;ALEXANDRE GAVI…</td><td>&quot;R GONCALVES CR…</td><td>&quot;Tatuapé&quot;</td><td>&quot;São Paulo&quot;</td><td>&quot;SP&quot;</td><td>&quot;03066030&quot;</td><td>&quot;11&quot;</td><td>&quot;23411855&quot;</td><td>&quot;-23.538538&quot;</td><td>&quot;-46.5755367&quot;</td></tr><tr><td>&quot;MC DONALDS-BOU…</td><td>&quot;R GONCALVES CR…</td><td>&quot;Tatuapé&quot;</td><td>&quot;São Paulo&quot;</td><td>&quot;SP&quot;</td><td>&quot;03066030&quot;</td><td>&quot;11&quot;</td><td>&quot;41969800&quot;</td><td>&quot;-23.538538&quot;</td><td>&quot;-46.5755367&quot;</td></tr><tr><td>&quot;MONTANA GRIL-B…</td><td>&quot;R GONCALVES CR…</td><td>&quot;Tatuapé&quot;</td><td>&quot;São Paulo&quot;</td><td>&quot;SP&quot;</td><td>&quot;03066030&quot;</td><td>&quot;11&quot;</td><td>&quot;76005417&quot;</td><td>&quot;-23.538538&quot;</td><td>&quot;-46.5755367&quot;</td></tr><tr><td>&quot;AIRAM SUCOS&quot;</td><td>&quot;R GONCALVES CR…</td><td>&quot;Tatuapé&quot;</td><td>&quot;São Paulo&quot;</td><td>&quot;SP&quot;</td><td>&quot;03066030&quot;</td><td>&quot;11&quot;</td><td>&quot;20922272&quot;</td><td>&quot;-23.538538&quot;</td><td>&quot;-46.5755367&quot;</td></tr><tr><td>&quot;GOURMETZINHO B…</td><td>&quot;Rua Agostinho …</td><td>&quot;Butantã&quot;</td><td>&quot;São Paulo&quot;</td><td>&quot;SP&quot;</td><td>&quot;05501010&quot;</td><td>&quot;11&quot;</td><td>&quot;00023091033&quot;</td><td>&quot;-23.5708741&quot;</td><td>&quot;-46.7042337&quot;</td></tr></tbody></table></div>"
      ],
      "text/plain": [
       "shape: (10_000, 10)\n",
       "┌────────────┬────────────┬────────────┬───────────┬───┬─────┬────────────┬────────────┬───────────┐\n",
       "│ ESTABELECI ┆ ENDERECO   ┆ BAIRRO     ┆ MUNICIPIO ┆ … ┆ DDD ┆ TELEFONE   ┆ LATITUDE   ┆ LONGITUDE │\n",
       "│ MENTOS     ┆ ---        ┆ ---        ┆ ---       ┆   ┆ --- ┆ ---        ┆ ---        ┆ ---       │\n",
       "│ ---        ┆ str        ┆ str        ┆ str       ┆   ┆ str ┆ str        ┆ str        ┆ str       │\n",
       "│ str        ┆            ┆            ┆           ┆   ┆     ┆            ┆            ┆           │\n",
       "╞════════════╪════════════╪════════════╪═══════════╪═══╪═════╪════════════╪════════════╪═══════════╡\n",
       "│ HANNA CAFE ┆ Avenida    ┆ Bela Vista ┆ São Paulo ┆ … ┆ 11  ┆ 31074889   ┆ -23.556697 ┆ -46.63971 │\n",
       "│            ┆ Brigadeiro ┆            ┆           ┆   ┆     ┆            ┆            ┆ 39        │\n",
       "│            ┆ Luís       ┆            ┆           ┆   ┆     ┆            ┆            ┆           │\n",
       "│            ┆ Antônio …  ┆            ┆           ┆   ┆     ┆            ┆            ┆           │\n",
       "│ OSORIO VAS ┆ Rua        ┆ Bela Vista ┆ São Paulo ┆ … ┆ 11  ┆ 0096041637 ┆ -23.554985 ┆ -46.64013 │\n",
       "│ CONCELOS   ┆ Francisca  ┆            ┆           ┆   ┆     ┆ 3          ┆ 9          ┆ 48        │\n",
       "│ SOBRINHO   ┆ Miquelina  ┆            ┆           ┆   ┆     ┆            ┆            ┆           │\n",
       "│ 6200       ┆ 355        ┆            ┆           ┆   ┆     ┆            ┆            ┆           │\n",
       "│ RECANTO DO ┆ Rua        ┆ Bela Vista ┆ São Paulo ┆ … ┆ 11  ┆ 30216573   ┆ -23.555029 ┆ -46.64024 │\n",
       "│ ACAI       ┆ Francisca  ┆            ┆           ┆   ┆     ┆            ┆ 4          ┆ 52        │\n",
       "│            ┆ Miquelina  ┆            ┆           ┆   ┆     ┆            ┆            ┆           │\n",
       "│ SANDRA     ┆ Rua Santo  ┆ Bela Vista ┆ São Paulo ┆ … ┆ 11  ┆ 0003104360 ┆ -23.555115 ┆ -46.64045 │\n",
       "│ OLIVEIRA   ┆ Amaro 608  ┆            ┆           ┆   ┆     ┆ 2          ┆ 2          ┆ 35        │\n",
       "│ DOS PA     ┆            ┆            ┆           ┆   ┆     ┆            ┆            ┆           │\n",
       "│ …          ┆ …          ┆ …          ┆ …         ┆ … ┆ …   ┆ …          ┆ …          ┆ …         │\n",
       "│ MC DONALDS ┆ R          ┆ Tatuapé    ┆ São Paulo ┆ … ┆ 11  ┆ 41969800   ┆ -23.538538 ┆ -46.57553 │\n",
       "│ -BOULEVARD ┆ GONCALVES  ┆            ┆           ┆   ┆     ┆            ┆            ┆ 67        │\n",
       "│            ┆ CRESPO     ┆            ┆           ┆   ┆     ┆            ┆            ┆           │\n",
       "│ MONTANA    ┆ R          ┆ Tatuapé    ┆ São Paulo ┆ … ┆ 11  ┆ 76005417   ┆ -23.538538 ┆ -46.57553 │\n",
       "│ GRIL-BOULE ┆ GONCALVES  ┆            ┆           ┆   ┆     ┆            ┆            ┆ 67        │\n",
       "│ VARD       ┆ CRESPO     ┆            ┆           ┆   ┆     ┆            ┆            ┆           │\n",
       "│ AIRAM      ┆ R          ┆ Tatuapé    ┆ São Paulo ┆ … ┆ 11  ┆ 20922272   ┆ -23.538538 ┆ -46.57553 │\n",
       "│ SUCOS      ┆ GONCALVES  ┆            ┆           ┆   ┆     ┆            ┆            ┆ 67        │\n",
       "│            ┆ CRESPO     ┆            ┆           ┆   ┆     ┆            ┆            ┆           │\n",
       "│ GOURMETZIN ┆ Rua        ┆ Butantã    ┆ São Paulo ┆ … ┆ 11  ┆ 0002309103 ┆ -23.570874 ┆ -46.70423 │\n",
       "│ HO BISTRO  ┆ Agostinho  ┆            ┆           ┆   ┆     ┆ 3          ┆ 1          ┆ 37        │\n",
       "│ &          ┆ Cantu 147  ┆            ┆           ┆   ┆     ┆            ┆            ┆           │\n",
       "└────────────┴────────────┴────────────┴───────────┴───┴─────┴────────────┴────────────┴───────────┘"
      ]
     },
     "execution_count": 3,
     "metadata": {},
     "output_type": "execute_result"
    }
   ],
   "source": [
    "base = get_establishments(token=token['access_token'])\n",
    "base"
   ]
  },
  {
   "cell_type": "code",
   "execution_count": null,
   "metadata": {},
   "outputs": [],
   "source": [
    "dados = pl.from_pandas(pd.json_normalize(base))"
   ]
  }
 ],
 "metadata": {
  "kernelspec": {
   "display_name": ".venv",
   "language": "python",
   "name": "python3"
  },
  "language_info": {
   "codemirror_mode": {
    "name": "ipython",
    "version": 3
   },
   "file_extension": ".py",
   "mimetype": "text/x-python",
   "name": "python",
   "nbconvert_exporter": "python",
   "pygments_lexer": "ipython3",
   "version": "3.9.13"
  },
  "orig_nbformat": 4
 },
 "nbformat": 4,
 "nbformat_minor": 2
}
