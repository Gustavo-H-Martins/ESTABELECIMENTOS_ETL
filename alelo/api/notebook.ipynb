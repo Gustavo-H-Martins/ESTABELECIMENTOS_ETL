{
 "cells": [
  {
   "cell_type": "code",
   "execution_count": 2,
   "metadata": {},
   "outputs": [],
   "source": [
    "# libs\n",
    "from request_alelo_api import get_establishments, get_token\n",
    "import polars as pl"
   ]
  },
  {
   "cell_type": "code",
   "execution_count": 3,
   "metadata": {},
   "outputs": [
    {
     "data": {
      "text/plain": [
       "{'token_type': 'Bearer',\n",
       " 'access_token': 'AAIkNzZhNzc1Y2QtOGIyYy00Y2U4LWI3YTUtYjMyMWM2NjIyM2Y39X-lQbprTWgkovmhjCsn3kCYQaFHreo5mPOPfzwsFGiMU5uEM_zFG8T6ZDyFjT2AcPN6_2uHocCeuyD4ofPRoFQhdKCcgAp0pxBVZbaYa21kMkpCk-uHUsX99Diw4WnVaXq2-8vj-BF_-Xj7hrdNYg',\n",
       " 'expires_in': 3600,\n",
       " 'consented_on': 1681766439,\n",
       " 'scope': 'acceptance-network'}"
      ]
     },
     "execution_count": 3,
     "metadata": {},
     "output_type": "execute_result"
    }
   ],
   "source": [
    "token = get_token()\n",
    "token"
   ]
  },
  {
   "cell_type": "code",
   "execution_count": 4,
   "metadata": {},
   "outputs": [],
   "source": [
    "base = get_establishments(token=token['access_token'])"
   ]
  },
  {
   "cell_type": "code",
   "execution_count": 5,
   "metadata": {},
   "outputs": [],
   "source": [
    "dados = pl.DataFrame(base)"
   ]
  },
  {
   "cell_type": "code",
   "execution_count": 6,
   "metadata": {},
   "outputs": [
    {
     "data": {
      "text/plain": [
       "['CNPJ',\n",
       " 'RAZAO_SOCIAL',\n",
       " 'ESTABELECIMENTOS',\n",
       " 'ENDERECO',\n",
       " 'BAIRRO',\n",
       " 'CIDADE',\n",
       " 'UF',\n",
       " 'CEP',\n",
       " 'TELEFONE',\n",
       " 'EMAIL',\n",
       " 'LATITUDE',\n",
       " 'LONGITUDE',\n",
       " 'BANDEIRA']"
      ]
     },
     "execution_count": 6,
     "metadata": {},
     "output_type": "execute_result"
    }
   ],
   "source": [
    "dados.columns"
   ]
  }
 ],
 "metadata": {
  "kernelspec": {
   "display_name": ".venv",
   "language": "python",
   "name": "python3"
  },
  "language_info": {
   "codemirror_mode": {
    "name": "ipython",
    "version": 3
   },
   "file_extension": ".py",
   "mimetype": "text/x-python",
   "name": "python",
   "nbconvert_exporter": "python",
   "pygments_lexer": "ipython3",
   "version": "3.9.13"
  },
  "orig_nbformat": 4
 },
 "nbformat": 4,
 "nbformat_minor": 2
}
