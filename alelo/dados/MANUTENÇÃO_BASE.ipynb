{
 "cells": [
  {
   "cell_type": "code",
   "execution_count": 1,
   "metadata": {},
   "outputs": [
    {
     "data": {
      "text/plain": [
       "<pandas._config.config.option_context at 0x2479a1d6f40>"
      ]
     },
     "execution_count": 1,
     "metadata": {},
     "output_type": "execute_result"
    }
   ],
   "source": [
    "\n",
    "# libs\n",
    "import pandas as pd\n",
    "import sqlite3\n",
    "import warnings\n",
    "import os\n",
    "import logging\n",
    "warnings.filterwarnings('ignore')\n",
    "pd.option_context(10,5)"
   ]
  },
  {
   "cell_type": "code",
   "execution_count": null,
   "metadata": {},
   "outputs": [],
   "source": [
    "#define o caminho do diretório atual\n",
    "current_dir = os.getcwd()\n",
    "file_logs = current_dir.replace(r'alelo\\dados',r'logs\\alelo.log')\n",
    "# configurando o registro de logs\n",
    "logging.basicConfig(level=logging.DEBUG, filename=file_logs,encoding='utf-8', format=\"%(asctime)s - %(levelname)s - %(message)s\")\n",
    "# pega o arquivo gerado\n",
    "base_alelo = current_dir + r'\\BASE_ALELO.csv'\n",
    "base_alelo"
   ]
  }
 ],
 "metadata": {
  "kernelspec": {
   "display_name": ".venv",
   "language": "python",
   "name": "python3"
  },
  "language_info": {
   "codemirror_mode": {
    "name": "ipython",
    "version": 3
   },
   "file_extension": ".py",
   "mimetype": "text/x-python",
   "name": "python",
   "nbconvert_exporter": "python",
   "pygments_lexer": "ipython3",
   "version": "3.9.10"
  },
  "orig_nbformat": 4
 },
 "nbformat": 4,
 "nbformat_minor": 2
}
